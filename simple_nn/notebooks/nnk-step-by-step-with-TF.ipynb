{
 "cells": [
  {
   "cell_type": "markdown",
   "id": "8642db8a",
   "metadata": {
    "id": "rI5gqoZCZVrJ",
    "papermill": {
     "duration": 0.010616,
     "end_time": "2025-02-24T17:27:13.460270",
     "exception": false,
     "start_time": "2025-02-24T17:27:13.449654",
     "status": "completed"
    },
    "tags": []
   },
   "source": [
    "# Import Libraries and Read Data"
   ]
  },
  {
   "cell_type": "code",
   "execution_count": 11,
   "id": "50fd7a4a",
   "metadata": {
    "id": "BBgymHDLmx8D",
    "papermill": {
     "duration": 1.018963,
     "end_time": "2025-02-24T17:27:14.489223",
     "exception": false,
     "start_time": "2025-02-24T17:27:13.470260",
     "status": "completed"
    },
    "tags": []
   },
   "outputs": [],
   "source": [
    "import numpy as np\n",
    "import pandas as pd\n",
    "import tensorflow as tf\n",
    "from sklearn.model_selection import train_test_split\n",
    "import matplotlib.pyplot as plt\n",
    "import warnings\n",
    "warnings.filterwarnings('ignore')"
   ]
  },
  {
   "cell_type": "code",
   "execution_count": 12,
   "id": "022483a4",
   "metadata": {
    "id": "DBkthk72YXe5",
    "papermill": {
     "duration": 4.960773,
     "end_time": "2025-02-24T17:27:19.459889",
     "exception": false,
     "start_time": "2025-02-24T17:27:14.499116",
     "status": "completed"
    },
    "tags": []
   },
   "outputs": [],
   "source": [
    "df = pd.read_csv('train.csv')\n",
    "df_test = pd.read_csv('test.csv')"
   ]
  },
  {
   "cell_type": "code",
   "execution_count": 13,
   "id": "53e84dae",
   "metadata": {
    "id": "NbmM7deQYgsR",
    "outputId": "9956f5cd-3a51-4b5d-c46d-6b61ed24b592",
    "papermill": {
     "duration": 0.043941,
     "end_time": "2025-02-24T17:27:19.514486",
     "exception": false,
     "start_time": "2025-02-24T17:27:19.470545",
     "status": "completed"
    },
    "tags": []
   },
   "outputs": [
    {
     "data": {
      "text/html": [
       "<div>\n",
       "<style scoped>\n",
       "    .dataframe tbody tr th:only-of-type {\n",
       "        vertical-align: middle;\n",
       "    }\n",
       "\n",
       "    .dataframe tbody tr th {\n",
       "        vertical-align: top;\n",
       "    }\n",
       "\n",
       "    .dataframe thead th {\n",
       "        text-align: right;\n",
       "    }\n",
       "</style>\n",
       "<table border=\"1\" class=\"dataframe\">\n",
       "  <thead>\n",
       "    <tr style=\"text-align: right;\">\n",
       "      <th></th>\n",
       "      <th>label</th>\n",
       "      <th>pixel0</th>\n",
       "      <th>pixel1</th>\n",
       "      <th>pixel2</th>\n",
       "      <th>pixel3</th>\n",
       "      <th>pixel4</th>\n",
       "      <th>pixel5</th>\n",
       "      <th>pixel6</th>\n",
       "      <th>pixel7</th>\n",
       "      <th>pixel8</th>\n",
       "      <th>...</th>\n",
       "      <th>pixel774</th>\n",
       "      <th>pixel775</th>\n",
       "      <th>pixel776</th>\n",
       "      <th>pixel777</th>\n",
       "      <th>pixel778</th>\n",
       "      <th>pixel779</th>\n",
       "      <th>pixel780</th>\n",
       "      <th>pixel781</th>\n",
       "      <th>pixel782</th>\n",
       "      <th>pixel783</th>\n",
       "    </tr>\n",
       "  </thead>\n",
       "  <tbody>\n",
       "    <tr>\n",
       "      <th>0</th>\n",
       "      <td>1</td>\n",
       "      <td>0</td>\n",
       "      <td>0</td>\n",
       "      <td>0</td>\n",
       "      <td>0</td>\n",
       "      <td>0</td>\n",
       "      <td>0</td>\n",
       "      <td>0</td>\n",
       "      <td>0</td>\n",
       "      <td>0</td>\n",
       "      <td>...</td>\n",
       "      <td>0</td>\n",
       "      <td>0</td>\n",
       "      <td>0</td>\n",
       "      <td>0</td>\n",
       "      <td>0</td>\n",
       "      <td>0</td>\n",
       "      <td>0</td>\n",
       "      <td>0</td>\n",
       "      <td>0</td>\n",
       "      <td>0</td>\n",
       "    </tr>\n",
       "    <tr>\n",
       "      <th>1</th>\n",
       "      <td>0</td>\n",
       "      <td>0</td>\n",
       "      <td>0</td>\n",
       "      <td>0</td>\n",
       "      <td>0</td>\n",
       "      <td>0</td>\n",
       "      <td>0</td>\n",
       "      <td>0</td>\n",
       "      <td>0</td>\n",
       "      <td>0</td>\n",
       "      <td>...</td>\n",
       "      <td>0</td>\n",
       "      <td>0</td>\n",
       "      <td>0</td>\n",
       "      <td>0</td>\n",
       "      <td>0</td>\n",
       "      <td>0</td>\n",
       "      <td>0</td>\n",
       "      <td>0</td>\n",
       "      <td>0</td>\n",
       "      <td>0</td>\n",
       "    </tr>\n",
       "    <tr>\n",
       "      <th>2</th>\n",
       "      <td>1</td>\n",
       "      <td>0</td>\n",
       "      <td>0</td>\n",
       "      <td>0</td>\n",
       "      <td>0</td>\n",
       "      <td>0</td>\n",
       "      <td>0</td>\n",
       "      <td>0</td>\n",
       "      <td>0</td>\n",
       "      <td>0</td>\n",
       "      <td>...</td>\n",
       "      <td>0</td>\n",
       "      <td>0</td>\n",
       "      <td>0</td>\n",
       "      <td>0</td>\n",
       "      <td>0</td>\n",
       "      <td>0</td>\n",
       "      <td>0</td>\n",
       "      <td>0</td>\n",
       "      <td>0</td>\n",
       "      <td>0</td>\n",
       "    </tr>\n",
       "    <tr>\n",
       "      <th>3</th>\n",
       "      <td>4</td>\n",
       "      <td>0</td>\n",
       "      <td>0</td>\n",
       "      <td>0</td>\n",
       "      <td>0</td>\n",
       "      <td>0</td>\n",
       "      <td>0</td>\n",
       "      <td>0</td>\n",
       "      <td>0</td>\n",
       "      <td>0</td>\n",
       "      <td>...</td>\n",
       "      <td>0</td>\n",
       "      <td>0</td>\n",
       "      <td>0</td>\n",
       "      <td>0</td>\n",
       "      <td>0</td>\n",
       "      <td>0</td>\n",
       "      <td>0</td>\n",
       "      <td>0</td>\n",
       "      <td>0</td>\n",
       "      <td>0</td>\n",
       "    </tr>\n",
       "    <tr>\n",
       "      <th>4</th>\n",
       "      <td>0</td>\n",
       "      <td>0</td>\n",
       "      <td>0</td>\n",
       "      <td>0</td>\n",
       "      <td>0</td>\n",
       "      <td>0</td>\n",
       "      <td>0</td>\n",
       "      <td>0</td>\n",
       "      <td>0</td>\n",
       "      <td>0</td>\n",
       "      <td>...</td>\n",
       "      <td>0</td>\n",
       "      <td>0</td>\n",
       "      <td>0</td>\n",
       "      <td>0</td>\n",
       "      <td>0</td>\n",
       "      <td>0</td>\n",
       "      <td>0</td>\n",
       "      <td>0</td>\n",
       "      <td>0</td>\n",
       "      <td>0</td>\n",
       "    </tr>\n",
       "    <tr>\n",
       "      <th>5</th>\n",
       "      <td>0</td>\n",
       "      <td>0</td>\n",
       "      <td>0</td>\n",
       "      <td>0</td>\n",
       "      <td>0</td>\n",
       "      <td>0</td>\n",
       "      <td>0</td>\n",
       "      <td>0</td>\n",
       "      <td>0</td>\n",
       "      <td>0</td>\n",
       "      <td>...</td>\n",
       "      <td>0</td>\n",
       "      <td>0</td>\n",
       "      <td>0</td>\n",
       "      <td>0</td>\n",
       "      <td>0</td>\n",
       "      <td>0</td>\n",
       "      <td>0</td>\n",
       "      <td>0</td>\n",
       "      <td>0</td>\n",
       "      <td>0</td>\n",
       "    </tr>\n",
       "    <tr>\n",
       "      <th>6</th>\n",
       "      <td>7</td>\n",
       "      <td>0</td>\n",
       "      <td>0</td>\n",
       "      <td>0</td>\n",
       "      <td>0</td>\n",
       "      <td>0</td>\n",
       "      <td>0</td>\n",
       "      <td>0</td>\n",
       "      <td>0</td>\n",
       "      <td>0</td>\n",
       "      <td>...</td>\n",
       "      <td>0</td>\n",
       "      <td>0</td>\n",
       "      <td>0</td>\n",
       "      <td>0</td>\n",
       "      <td>0</td>\n",
       "      <td>0</td>\n",
       "      <td>0</td>\n",
       "      <td>0</td>\n",
       "      <td>0</td>\n",
       "      <td>0</td>\n",
       "    </tr>\n",
       "  </tbody>\n",
       "</table>\n",
       "<p>7 rows × 785 columns</p>\n",
       "</div>"
      ],
      "text/plain": [
       "   label  pixel0  pixel1  pixel2  pixel3  pixel4  pixel5  pixel6  pixel7  \\\n",
       "0      1       0       0       0       0       0       0       0       0   \n",
       "1      0       0       0       0       0       0       0       0       0   \n",
       "2      1       0       0       0       0       0       0       0       0   \n",
       "3      4       0       0       0       0       0       0       0       0   \n",
       "4      0       0       0       0       0       0       0       0       0   \n",
       "5      0       0       0       0       0       0       0       0       0   \n",
       "6      7       0       0       0       0       0       0       0       0   \n",
       "\n",
       "   pixel8  ...  pixel774  pixel775  pixel776  pixel777  pixel778  pixel779  \\\n",
       "0       0  ...         0         0         0         0         0         0   \n",
       "1       0  ...         0         0         0         0         0         0   \n",
       "2       0  ...         0         0         0         0         0         0   \n",
       "3       0  ...         0         0         0         0         0         0   \n",
       "4       0  ...         0         0         0         0         0         0   \n",
       "5       0  ...         0         0         0         0         0         0   \n",
       "6       0  ...         0         0         0         0         0         0   \n",
       "\n",
       "   pixel780  pixel781  pixel782  pixel783  \n",
       "0         0         0         0         0  \n",
       "1         0         0         0         0  \n",
       "2         0         0         0         0  \n",
       "3         0         0         0         0  \n",
       "4         0         0         0         0  \n",
       "5         0         0         0         0  \n",
       "6         0         0         0         0  \n",
       "\n",
       "[7 rows x 785 columns]"
      ]
     },
     "execution_count": 13,
     "metadata": {},
     "output_type": "execute_result"
    }
   ],
   "source": [
    "df.head(7)"
   ]
  },
  {
   "cell_type": "code",
   "execution_count": 14,
   "id": "9986dd5d",
   "metadata": {
    "id": "OXiNpcyUZf3D",
    "outputId": "c2dfbf58-0ed0-406e-8bc4-c330ffcfe299",
    "papermill": {
     "duration": 0.07228,
     "end_time": "2025-02-24T17:27:19.601075",
     "exception": false,
     "start_time": "2025-02-24T17:27:19.528795",
     "status": "completed"
    },
    "tags": []
   },
   "outputs": [
    {
     "name": "stdout",
     "output_type": "stream",
     "text": [
      "<class 'pandas.core.frame.DataFrame'>\n",
      "RangeIndex: 42000 entries, 0 to 41999\n",
      "Columns: 785 entries, label to pixel783\n",
      "dtypes: int64(785)\n",
      "memory usage: 251.5 MB\n"
     ]
    }
   ],
   "source": [
    "df.info()"
   ]
  },
  {
   "cell_type": "markdown",
   "id": "7dc1749c",
   "metadata": {
    "id": "Ai7EArpHZtmv",
    "papermill": {
     "duration": 0.010191,
     "end_time": "2025-02-24T17:27:21.519871",
     "exception": false,
     "start_time": "2025-02-24T17:27:21.509680",
     "status": "completed"
    },
    "tags": []
   },
   "source": [
    "# Check for Missing Data"
   ]
  },
  {
   "cell_type": "code",
   "execution_count": 15,
   "id": "da4c17e9",
   "metadata": {
    "id": "5ZBPy1y9ZjlT",
    "outputId": "fbd4ccc0-c917-4604-aa49-84812f69c839",
    "papermill": {
     "duration": 0.052292,
     "end_time": "2025-02-24T17:27:21.582498",
     "exception": false,
     "start_time": "2025-02-24T17:27:21.530206",
     "status": "completed"
    },
    "tags": []
   },
   "outputs": [
    {
     "name": "stdout",
     "output_type": "stream",
     "text": [
      "\n",
      "Does the training data have any missing values? False\n"
     ]
    }
   ],
   "source": [
    "# check for any missing data (nulls) in the training data\n",
    "has_missing = any(df.isnull().sum().tolist())\n",
    "print(f\"\\nDoes the training data have any missing values? {has_missing}\")\n"
   ]
  },
  {
   "cell_type": "markdown",
   "id": "601ff20e",
   "metadata": {
    "id": "Y-nX2ajnYogW",
    "papermill": {
     "duration": 0.010208,
     "end_time": "2025-02-24T17:27:21.603507",
     "exception": false,
     "start_time": "2025-02-24T17:27:21.593299",
     "status": "completed"
    },
    "tags": []
   },
   "source": [
    "# Visualize a Sample Image from the Dataset"
   ]
  },
  {
   "cell_type": "code",
   "execution_count": 16,
   "id": "815405d1",
   "metadata": {
    "id": "5PT0GEDAYwon",
    "outputId": "6d19ddf1-318f-44cc-bc95-10ecbcbbc8ae",
    "papermill": {
     "duration": 0.018322,
     "end_time": "2025-02-24T17:27:21.659791",
     "exception": false,
     "start_time": "2025-02-24T17:27:21.641469",
     "status": "completed"
    },
    "tags": []
   },
   "outputs": [],
   "source": [
    "# the dataset contains 784 pixel values per image (28x28 pixels)\n",
    "# we select the 11th record and reshape it for display \n",
    "image = df.iloc[10][1:].to_numpy().reshape(28, 28)\n",
    "image_label = df.iloc[10][0]"
   ]
  },
  {
   "cell_type": "code",
   "execution_count": 17,
   "id": "e8f4d230",
   "metadata": {
    "id": "0Xavw2kLZNL7",
    "outputId": "9fccb4b1-5d13-4506-ad1a-bf34e6fdfb58",
    "papermill": {
     "duration": 0.201843,
     "end_time": "2025-02-24T17:27:21.872236",
     "exception": false,
     "start_time": "2025-02-24T17:27:21.670393",
     "status": "completed"
    },
    "tags": []
   },
   "outputs": [
    {
     "data": {
      "image/png": "[encoded data removed]",
      "text/plain": [
       "<Figure size 640x480 with 1 Axes>"
      ]
     },
     "metadata": {},
     "output_type": "display_data"
    }
   ],
   "source": [
    "plt.imshow(image, cmap='gray')\n",
    "plt.title(f\"Label: {image_label}\")\n",
    "plt.axis('off')\n",
    "plt.show()"
   ]
  },
  {
   "cell_type": "markdown",
   "id": "ac5929e1",
   "metadata": {
    "id": "PbE9NZdgaSm8",
    "papermill": {
     "duration": 0.011424,
     "end_time": "2025-02-24T17:27:48.350361",
     "exception": false,
     "start_time": "2025-02-24T17:27:48.338937",
     "status": "completed"
    },
    "tags": []
   },
   "source": [
    "# Neural Network Using TenzorFlow and Keras - Data Preparation"
   ]
  },
  {
   "cell_type": "code",
   "execution_count": 18,
   "id": "af5305dc",
   "metadata": {
    "id": "mxNQAwt6ZPLq",
    "papermill": {
     "duration": 0.077834,
     "end_time": "2025-02-24T17:27:48.439978",
     "exception": false,
     "start_time": "2025-02-24T17:27:48.362144",
     "status": "completed"
    },
    "tags": []
   },
   "outputs": [],
   "source": [
    "# extract Features (Pixels) and Labels\n",
    "X = df.iloc[:,1:].values.astype('float32') # Convert features to float32\n",
    "y = df.iloc[:,0].values.astype('int64') # Convert labels to int64"
   ]
  },
  {
   "cell_type": "code",
   "execution_count": 19,
   "id": "8773e8df",
   "metadata": {
    "id": "-IbDylYAaoBB",
    "papermill": {
     "duration": 0.396078,
     "end_time": "2025-02-24T17:27:48.848947",
     "exception": false,
     "start_time": "2025-02-24T17:27:48.452869",
     "status": "completed"
    },
    "tags": []
   },
   "outputs": [],
   "source": [
    "# split data to train-and-test\n",
    "X_train, X_test, y_train, y_test = train_test_split(X, y, test_size=0.2, random_state=42)\n",
    "\n",
    "# split to train-and-validate \n",
    "X_train, X_val, y_train, y_val = train_test_split(X_train, y_train, test_size=0.2, random_state=42)"
   ]
  },
  {
   "cell_type": "code",
   "execution_count": 20,
   "id": "88f7d0db",
   "metadata": {
    "id": "1eAOXFdKa5sy",
    "outputId": "1ec0eeb7-8614-4758-f45a-817dc086e103",
    "papermill": {
     "duration": 0.019037,
     "end_time": "2025-02-24T17:27:48.879912",
     "exception": false,
     "start_time": "2025-02-24T17:27:48.860875",
     "status": "completed"
    },
    "tags": []
   },
   "outputs": [
    {
     "name": "stdout",
     "output_type": "stream",
     "text": [
      "X_train shape: (26880, 784), y_train shape: (26880,)\n",
      "X_val shape: (6720, 784), y_val shape: (6720,)\n"
     ]
    }
   ],
   "source": [
    "# check out datasets shapes\n",
    "print(f\"X_train shape: {X_train.shape}, y_train shape: {y_train.shape}\")\n",
    "print(f\"X_val shape: {X_val.shape}, y_val shape: {y_val.shape}\")"
   ]
  },
  {
   "cell_type": "code",
   "execution_count": 21,
   "id": "5bbfee3c",
   "metadata": {
    "id": "bJGU2saxa7yZ",
    "papermill": {
     "duration": 0.053285,
     "end_time": "2025-02-24T17:27:48.945163",
     "exception": false,
     "start_time": "2025-02-24T17:27:48.891878",
     "status": "completed"
    },
    "tags": []
   },
   "outputs": [],
   "source": [
    "# normalize data values\n",
    "X_train, X_val, X_test = X_train / 255.0, X_val / 255.0, X_test / 255.0"
   ]
  },
  {
   "cell_type": "markdown",
   "id": "f1989bcf",
   "metadata": {
    "id": "1-R17oGXciDu",
    "papermill": {
     "duration": 0.011916,
     "end_time": "2025-02-24T17:27:48.969383",
     "exception": false,
     "start_time": "2025-02-24T17:27:48.957467",
     "status": "completed"
    },
    "tags": []
   },
   "source": [
    "## Build and Compile the Keras Model"
   ]
  },
  {
   "cell_type": "code",
   "execution_count": 22,
   "id": "4da82187",
   "metadata": {
    "id": "gqEH55GIbQKR",
    "outputId": "6b1eb928-c05a-4233-f1f3-693f2741904c",
    "papermill": {
     "duration": 0.177543,
     "end_time": "2025-02-24T17:28:04.257446",
     "exception": false,
     "start_time": "2025-02-24T17:28:04.079903",
     "status": "completed"
    },
    "tags": []
   },
   "outputs": [],
   "source": [
    "model = tf.keras.Sequential([\n",
    "    tf.keras.layers.Dense(128, activation='relu', input_shape = (784,)), # intiallize the first layer with 128 neurons\n",
    "    tf.keras.layers.Dropout(0.2), # set dropout rate to avoid over-fitting\n",
    "    tf.keras.layers.Dense(64, activation='relu'), # second Layer contains 64 neurons\n",
    "    tf.keras.layers.Dense(10, activation='softmax') # the output layer has 10 neurons \n",
    "])"
   ]
  },
  {
   "cell_type": "code",
   "execution_count": 23,
   "id": "99625bac",
   "metadata": {
    "id": "p7tNHVa2cHZQ",
    "papermill": {
     "duration": 0.027365,
     "end_time": "2025-02-24T17:28:04.297304",
     "exception": false,
     "start_time": "2025-02-24T17:28:04.269939",
     "status": "completed"
    },
    "tags": []
   },
   "outputs": [],
   "source": [
    "model.compile(optimizer='adam', loss='sparse_categorical_crossentropy', metrics=['accuracy'])"
   ]
  },
  {
   "cell_type": "markdown",
   "id": "64db73f4",
   "metadata": {
    "id": "lMa4Qd1IC-uA",
    "papermill": {
     "duration": 0.01199,
     "end_time": "2025-02-24T17:28:04.321649",
     "exception": false,
     "start_time": "2025-02-24T17:28:04.309659",
     "status": "completed"
    },
    "tags": []
   },
   "source": [
    "## Train the Model"
   ]
  },
  {
   "cell_type": "code",
   "execution_count": 24,
   "id": "2ae2f385",
   "metadata": {
    "id": "JAHHU-hxcTNO",
    "outputId": "b1ab0271-c503-4ae4-9a06-4312c4205286",
    "papermill": {
     "duration": 22.984917,
     "end_time": "2025-02-24T17:28:27.318879",
     "exception": false,
     "start_time": "2025-02-24T17:28:04.333962",
     "status": "completed"
    },
    "tags": []
   },
   "outputs": [
    {
     "name": "stdout",
     "output_type": "stream",
     "text": [
      "Epoch 1/10\n",
      "\u001b[1m840/840\u001b[0m \u001b[32m━━━━━━━━━━━━━━━━━━━━\u001b[0m\u001b[37m\u001b[0m \u001b[1m2s\u001b[0m 2ms/step - accuracy: 0.7988 - loss: 0.6680 - val_accuracy: 0.9369 - val_loss: 0.2104\n",
      "Epoch 2/10\n",
      "\u001b[1m840/840\u001b[0m \u001b[32m━━━━━━━━━━━━━━━━━━━━\u001b[0m\u001b[37m\u001b[0m \u001b[1m1s\u001b[0m 2ms/step - accuracy: 0.9410 - loss: 0.1887 - val_accuracy: 0.9552 - val_loss: 0.1437\n",
      "Epoch 3/10\n",
      "\u001b[1m840/840\u001b[0m \u001b[32m━━━━━━━━━━━━━━━━━━━━\u001b[0m\u001b[37m\u001b[0m \u001b[1m1s\u001b[0m 2ms/step - accuracy: 0.9592 - loss: 0.1337 - val_accuracy: 0.9597 - val_loss: 0.1277\n",
      "Epoch 4/10\n",
      "\u001b[1m840/840\u001b[0m \u001b[32m━━━━━━━━━━━━━━━━━━━━\u001b[0m\u001b[37m\u001b[0m \u001b[1m1s\u001b[0m 2ms/step - accuracy: 0.9680 - loss: 0.1041 - val_accuracy: 0.9641 - val_loss: 0.1239\n",
      "Epoch 5/10\n",
      "\u001b[1m840/840\u001b[0m \u001b[32m━━━━━━━━━━━━━━━━━━━━\u001b[0m\u001b[37m\u001b[0m \u001b[1m1s\u001b[0m 2ms/step - accuracy: 0.9728 - loss: 0.0863 - val_accuracy: 0.9667 - val_loss: 0.1125\n",
      "Epoch 6/10\n",
      "\u001b[1m840/840\u001b[0m \u001b[32m━━━━━━━━━━━━━━━━━━━━\u001b[0m\u001b[37m\u001b[0m \u001b[1m1s\u001b[0m 2ms/step - accuracy: 0.9764 - loss: 0.0717 - val_accuracy: 0.9690 - val_loss: 0.1076\n",
      "Epoch 7/10\n",
      "\u001b[1m840/840\u001b[0m \u001b[32m━━━━━━━━━━━━━━━━━━━━\u001b[0m\u001b[37m\u001b[0m \u001b[1m1s\u001b[0m 2ms/step - accuracy: 0.9771 - loss: 0.0671 - val_accuracy: 0.9696 - val_loss: 0.1103\n",
      "Epoch 8/10\n",
      "\u001b[1m840/840\u001b[0m \u001b[32m━━━━━━━━━━━━━━━━━━━━\u001b[0m\u001b[37m\u001b[0m \u001b[1m1s\u001b[0m 2ms/step - accuracy: 0.9822 - loss: 0.0605 - val_accuracy: 0.9707 - val_loss: 0.1079\n",
      "Epoch 9/10\n",
      "\u001b[1m840/840\u001b[0m \u001b[32m━━━━━━━━━━━━━━━━━━━━\u001b[0m\u001b[37m\u001b[0m \u001b[1m1s\u001b[0m 2ms/step - accuracy: 0.9818 - loss: 0.0549 - val_accuracy: 0.9702 - val_loss: 0.1099\n",
      "Epoch 10/10\n",
      "\u001b[1m840/840\u001b[0m \u001b[32m━━━━━━━━━━━━━━━━━━━━\u001b[0m\u001b[37m\u001b[0m \u001b[1m1s\u001b[0m 2ms/step - accuracy: 0.9841 - loss: 0.0481 - val_accuracy: 0.9713 - val_loss: 0.1070\n"
     ]
    }
   ],
   "source": [
    "history = model.fit(X_train, y_train, epochs=10, validation_data=(X_val, y_val))"
   ]
  },
  {
   "cell_type": "markdown",
   "id": "29066312",
   "metadata": {
    "id": "lQ8Icw0xckqi",
    "papermill": {
     "duration": 0.032308,
     "end_time": "2025-02-24T17:28:27.385261",
     "exception": false,
     "start_time": "2025-02-24T17:28:27.352953",
     "status": "completed"
    },
    "tags": []
   },
   "source": [
    "## Evaluate and Visualize Keras Model Predictions"
   ]
  },
  {
   "cell_type": "code",
   "execution_count": 25,
   "id": "9f5fdeb5",
   "metadata": {
    "id": "f5Mn_4tZcWw8",
    "outputId": "d05ed3b1-20da-4cca-b85b-c877e64cf51a",
    "papermill": {
     "duration": 0.545385,
     "end_time": "2025-02-24T17:28:27.963032",
     "exception": false,
     "start_time": "2025-02-24T17:28:27.417647",
     "status": "completed"
    },
    "tags": []
   },
   "outputs": [
    {
     "name": "stdout",
     "output_type": "stream",
     "text": [
      "\u001b[1m263/263\u001b[0m \u001b[32m━━━━━━━━━━━━━━━━━━━━\u001b[0m\u001b[37m\u001b[0m \u001b[1m0s\u001b[0m 831us/step - accuracy: 0.9717 - loss: 0.1156\n",
      "Test Accuracy: 0.97\n"
     ]
    }
   ],
   "source": [
    "test_loss, test_acc = model.evaluate(X_test, y_test)\n",
    "\n",
    "print(f\"Test Accuracy: {test_acc:.2f}\")"
   ]
  },
  {
   "cell_type": "markdown",
   "id": "c1f921bb",
   "metadata": {
    "id": "Mo69FRYJc45f",
    "papermill": {
     "duration": 0.033013,
     "end_time": "2025-02-24T17:28:28.029526",
     "exception": false,
     "start_time": "2025-02-24T17:28:27.996513",
     "status": "completed"
    },
    "tags": []
   },
   "source": [
    "## Visualize Predictions for a few Test Images"
   ]
  },
  {
   "cell_type": "code",
   "execution_count": 26,
   "id": "d8286850",
   "metadata": {
    "id": "Sb2flMD_czQB",
    "papermill": {
     "duration": 0.039423,
     "end_time": "2025-02-24T17:28:28.102168",
     "exception": false,
     "start_time": "2025-02-24T17:28:28.062745",
     "status": "completed"
    },
    "tags": []
   },
   "outputs": [],
   "source": [
    "n_images = 10"
   ]
  },
  {
   "cell_type": "code",
   "execution_count": 28,
   "id": "db0834fe",
   "metadata": {
    "id": "wlPDSt3PdAD5",
    "outputId": "08a30295-d13a-40ad-9e9d-9b9f9f223cff",
    "papermill": {
     "duration": 1.481814,
     "end_time": "2025-02-24T17:28:29.617098",
     "exception": false,
     "start_time": "2025-02-24T17:28:28.135284",
     "status": "completed"
    },
    "tags": []
   },
   "outputs": [
    {
     "name": "stdout",
     "output_type": "stream",
     "text": [
      "\u001b[1m1/1\u001b[0m \u001b[32m━━━━━━━━━━━━━━━━━━━━\u001b[0m\u001b[37m\u001b[0m \u001b[1m0s\u001b[0m 24ms/step\n",
      "\u001b[1m1/1\u001b[0m \u001b[32m━━━━━━━━━━━━━━━━━━━━\u001b[0m\u001b[37m\u001b[0m \u001b[1m0s\u001b[0m 23ms/step\n",
      "\u001b[1m1/1\u001b[0m \u001b[32m━━━━━━━━━━━━━━━━━━━━\u001b[0m\u001b[37m\u001b[0m \u001b[1m0s\u001b[0m 18ms/step\n",
      "\u001b[1m1/1\u001b[0m \u001b[32m━━━━━━━━━━━━━━━━━━━━\u001b[0m\u001b[37m\u001b[0m \u001b[1m0s\u001b[0m 27ms/step\n",
      "\u001b[1m1/1\u001b[0m \u001b[32m━━━━━━━━━━━━━━━━━━━━\u001b[0m\u001b[37m\u001b[0m \u001b[1m0s\u001b[0m 21ms/step\n",
      "\u001b[1m1/1\u001b[0m \u001b[32m━━━━━━━━━━━━━━━━━━━━\u001b[0m\u001b[37m\u001b[0m \u001b[1m0s\u001b[0m 17ms/step\n",
      "\u001b[1m1/1\u001b[0m \u001b[32m━━━━━━━━━━━━━━━━━━━━\u001b[0m\u001b[37m\u001b[0m \u001b[1m0s\u001b[0m 18ms/step\n",
      "\u001b[1m1/1\u001b[0m \u001b[32m━━━━━━━━━━━━━━━━━━━━\u001b[0m\u001b[37m\u001b[0m \u001b[1m0s\u001b[0m 18ms/step\n",
      "\u001b[1m1/1\u001b[0m \u001b[32m━━━━━━━━━━━━━━━━━━━━\u001b[0m\u001b[37m\u001b[0m \u001b[1m0s\u001b[0m 21ms/step\n",
      "\u001b[1m1/1\u001b[0m \u001b[32m━━━━━━━━━━━━━━━━━━━━\u001b[0m\u001b[37m\u001b[0m \u001b[1m0s\u001b[0m 21ms/step\n"
     ]
    },
    {
     "data": {
      "image/png": "[encoded data removed]",
      "text/plain": [
       "<Figure size 1200x600 with 10 Axes>"
      ]
     },
     "metadata": {},
     "output_type": "display_data"
    }
   ],
   "source": [
    "plt.figure(figsize= (12,6))\n",
    "\n",
    "for i in range(n_images):\n",
    "  image = X_test[i].reshape(28,28)\n",
    "  label = y_test[i]\n",
    "  model_prediction = model.predict(X_test[i].reshape(1,784)).argmax()\n",
    "\n",
    "  plt.subplot(1, n_images, i+1)\n",
    "  plt.imshow(X_test[i].reshape(28,28), cmap='gray')\n",
    "  plt.axis('off')\n",
    "  plt.title(f\"Model says:\\n label {label}\\n is {model_prediction}\")\n",
    "\n",
    "plt.show()"
   ]
  }
 ],
 "metadata": {
  "colab": {
   "provenance": []
  },
  "kaggle": {
   "accelerator": "none",
   "dataSources": [
    {
     "databundleVersionId": 861823,
     "sourceId": 3004,
     "sourceType": "competition"
    }
   ],
   "dockerImageVersionId": 30918,
   "isGpuEnabled": false,
   "isInternetEnabled": true,
   "language": "python",
   "sourceType": "notebook"
  },
  "kernelspec": {
   "display_name": "Python 3 (ipykernel)",
   "language": "python",
   "name": "python3"
  },
  "language_info": {
   "codemirror_mode": {
    "name": "ipython",
    "version": 3
   },
   "file_extension": ".py",
   "mimetype": "text/x-python",
   "name": "python",
   "nbconvert_exporter": "python",
   "pygments_lexer": "ipython3",
   "version": "3.12.5"
  },
  "papermill": {
   "default_parameters": {},
   "duration": 81.615974,
   "end_time": "2025-02-24T17:28:32.196013",
   "environment_variables": {},
   "exception": null,
   "input_path": "__notebook__.ipynb",
   "output_path": "__notebook__.ipynb",
   "parameters": {},
   "start_time": "2025-02-24T17:27:10.580039",
   "version": "2.6.0"
  }
 },
 "nbformat": 4,
 "nbformat_minor": 5
}
