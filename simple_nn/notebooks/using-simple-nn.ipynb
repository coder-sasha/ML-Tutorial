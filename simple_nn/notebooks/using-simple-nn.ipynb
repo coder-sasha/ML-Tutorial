{
 "cells": [
  {
   "cell_type": "markdown",
   "metadata": {
    "id": "xFrzPlyoikd9"
   },
   "source": [
    "# We will now train a simple neural network: a perceptron that classifies images of handwritten digit\n",
    "# Below we import necessary libraries and download the MNIST dataset, containing those images"
   ]
  },
  {
   "cell_type": "code",
   "execution_count": 2,
   "metadata": {
    "id": "UZ27Nqb8TBKx"
   },
   "outputs": [],
   "source": [
    "\n",
    "import random\n",
    "from sklearn.datasets import fetch_openml\n",
    "from sklearn.model_selection import train_test_split\n",
    "from sklearn.utils import check_random_state\n",
    "from sklearn import tree\n",
    "from sklearn.neural_network import MLPClassifier\n",
    "import matplotlib.pyplot as plt\n",
    "import numpy as np\n",
    "\n",
    "# Read in the mnist dataset of digit images\n",
    "X, y = fetch_openml('mnist_784', version=1, return_X_y=True)"
   ]
  },
  {
   "cell_type": "markdown",
   "metadata": {
    "id": "KB0MV4C1jCAC"
   },
   "source": [
    "# Next, we will divide the data into a training set and test set, randomly selecting 5000 examples for training."
   ]
  },
  {
   "cell_type": "code",
   "execution_count": 2,
   "metadata": {
    "id": "IJ2-XGCVTBK3"
   },
   "outputs": [],
   "source": [
    "train_samples = 5000\n",
    "\n",
    "# convert to numpy from pandas\n",
    "X = np.array(X)\n",
    "y = np.array(y)\n",
    "\n",
    "random_state = check_random_state(0)\n",
    "permutation = random_state.permutation(X.shape[0])\n",
    "X = X[permutation]\n",
    "y = y[permutation]\n",
    "X = X.reshape((X.shape[0], -1))\n",
    "\n",
    "X_train, X_test, y_train, y_test = train_test_split(\n",
    "    X, y, train_size=train_samples, test_size=1000)"
   ]
  },
  {
   "cell_type": "markdown",
   "metadata": {},
   "source": [
    "# Let's display some items in the dataset and their labels."
   ]
  },
  {
   "cell_type": "code",
   "execution_count": 6,
   "metadata": {},
   "outputs": [
    {
     "data": {
      "image/png": "[encoded data removed]",
      "text/plain": [
       "<Figure size 1200x400 with 5 Axes>"
      ]
     },
     "metadata": {},
     "output_type": "display_data"
    }
   ],
   "source": [
    "items = [13, 21, 42, 666, 777]\n",
    "\n",
    "# create a figure with 1 row and 3 columns\n",
    "fig, axes = plt.subplots(1, 5, figsize=(12, 4))\n",
    "\n",
    "for i, it in enumerate(items):\n",
    "    # extract label and image, reshape image to 28x28\n",
    "    img = np.array(X_train[it]).reshape(28, 28)\n",
    "    \n",
    "    # Display the image on the subplot axis\n",
    "    axes[i].imshow(img, cmap='gray', vmin=0, vmax=255)\n",
    "    axes[i].set_title(f\"Item {it} is digit {y_train[it]}\")\n",
    "    axes[i].axis('off')  # hide axis ticks\n",
    "\n",
    "plt.tight_layout()\n",
    "plt.show()"
   ]
  },
  {
   "cell_type": "markdown",
   "metadata": {
    "id": "97zMhsOVj6aH"
   },
   "source": [
    "# Let's see how a decision tree with 170 decision rules performs by training it and printing its accuracy."
   ]
  },
  {
   "cell_type": "code",
   "execution_count": 5,
   "metadata": {
    "colab": {
     "base_uri": "https://localhost:8080/"
    },
    "id": "TO8UQY0viwRV",
    "outputId": "4ba4676c-16fd-48fa-a193-6fcbbc1a57ee"
   },
   "outputs": [
    {
     "name": "stdout",
     "output_type": "stream",
     "text": [
      "acc=[77.3]\n"
     ]
    }
   ],
   "source": [
    "clf = tree.DecisionTreeClassifier(max_leaf_nodes = 200)\t\n",
    "clf = clf.fit(X_train, y_train)\t\t\t\n",
    "correct = 0\t\t\t\t\t\t\n",
    "for i in range(len(X_test)):\t\n",
    "  if clf.predict([X_test[i]]) == y_test[i]: \n",
    "      correct = correct + 1\n",
    "  acc = [100.0* correct / len(X_test)]\n",
    "\n",
    "print(f\"acc={acc}\")"
   ]
  },
  {
   "cell_type": "markdown",
   "metadata": {
    "id": "icfBxFlPkLoE"
   },
   "source": [
    "# Now let's try a simple neural network, a multi-layer perceptron with no hidden layers."
   ]
  },
  {
   "cell_type": "code",
   "execution_count": 6,
   "metadata": {
    "colab": {
     "base_uri": "https://localhost:8080/"
    },
    "id": "AFaBc0-xpPnq",
    "outputId": "b8466520-89d6-4eae-aa8b-a03ddb513c36"
   },
   "outputs": [
    {
     "name": "stdout",
     "output_type": "stream",
     "text": [
      "0.851\n"
     ]
    }
   ],
   "source": [
    "clf = MLPClassifier(hidden_layer_sizes=[], max_iter = 10000, activation = 'identity')\n",
    "clf.fit(X_train, y_train)\n",
    "score = clf.score(X_test, y_test)\n",
    "print(score)"
   ]
  },
  {
   "cell_type": "markdown",
   "metadata": {
    "id": "CTpGs2l-kdOs"
   },
   "source": [
    "# We will add one hidden layer and expand the number of hidden units from 10 to 200 in intervals of 10. \n",
    "# We'll print the accuracy of each model given the number of hidden units."
   ]
  },
  {
   "cell_type": "code",
   "execution_count": 7,
   "metadata": {
    "colab": {
     "base_uri": "https://localhost:8080/"
    },
    "id": "FFoZESbCupY3",
    "outputId": "97fccfaf-11f6-4d6f-e386-1f9d93f579ab"
   },
   "outputs": [
    {
     "name": "stdout",
     "output_type": "stream",
     "text": [
      "10 0.399\n",
      "20 0.841\n",
      "30 0.842\n",
      "40 0.842\n",
      "50 0.854\n",
      "60 0.874\n",
      "70 0.851\n",
      "80 0.86\n",
      "90 0.855\n",
      "100 0.862\n",
      "110 0.889\n",
      "120 0.892\n",
      "130 0.886\n",
      "140 0.894\n",
      "150 0.898\n",
      "160 0.91\n",
      "170 0.899\n",
      "180 0.912\n",
      "190 0.905\n",
      "200 0.898\n"
     ]
    }
   ],
   "source": [
    "for i in range(1,21):\n",
    "  nhidden = i*10\n",
    "  clf = MLPClassifier(hidden_layer_sizes=[nhidden], max_iter = 10000)\n",
    "  clf.fit(X_train, y_train)\n",
    "  score = clf.score(X_test, y_test)\n",
    "  print(nhidden, score)"
   ]
  },
  {
   "cell_type": "markdown",
   "metadata": {
    "id": "iQnlAyfFk-FU"
   },
   "source": [
    "# Now the model ia trained and should be able to recognize images.\n",
    "# To see how a model varies across multiple runs, we check it ten times."
   ]
  },
  {
   "cell_type": "code",
   "execution_count": 7,
   "metadata": {},
   "outputs": [
    {
     "name": "stdout",
     "output_type": "stream",
     "text": [
      "done...\n"
     ]
    }
   ],
   "source": [
    "# retrain the model for the best hiddel layers choise - 180\n",
    "nhidden = 180\n",
    "clf = MLPClassifier(hidden_layer_sizes=[nhidden], max_iter = 10000)\n",
    "clf.fit(X_train, y_train)\n",
    "print('done...')"
   ]
  },
  {
   "cell_type": "code",
   "execution_count": 14,
   "metadata": {},
   "outputs": [
    {
     "name": "stdout",
     "output_type": "stream",
     "text": [
      "model says that item 6 is ['6']\n",
      "model says that item 3 is ['2']\n",
      "model says that item 6 is ['6']\n",
      "model says that item 4 is ['4']\n",
      "model says that item 9 is ['9']\n"
     ]
    }
   ],
   "source": [
    "items = [13, 21, 42, 666, 777]\n",
    "results = []\n",
    "for it in items:\n",
    "    res = clf.predict([X_test[it]])\n",
    "    results.append(res)\n",
    "    print(f\"model says that item {y_test[it]} is {res}\")\n",
    "   "
   ]
  },
  {
   "cell_type": "code",
   "execution_count": 15,
   "metadata": {},
   "outputs": [
    {
     "data": {
      "image/png": "[encoded data removed]",
      "text/plain": [
       "<Figure size 1200x400 with 5 Axes>"
      ]
     },
     "metadata": {},
     "output_type": "display_data"
    }
   ],
   "source": [
    "fig, axes = plt.subplots(1, 5, figsize=(12, 4))\n",
    "\n",
    "for i, it in enumerate(items):\n",
    "    # Extract label and image, reshape image to 28x28\n",
    "    img = np.array(X_test[it]).reshape(28, 28)\n",
    "    \n",
    "    # Display the image on the subplot axis\n",
    "    axes[i].imshow(img, cmap='gray', vmin=0, vmax=255)\n",
    "    axes[i].set_title(f\"Model says that {y_test[it]} is {results[i]}\")\n",
    "    axes[i].axis('off')  # Hide axis ticks\n",
    "\n",
    "plt.tight_layout()\n",
    "plt.show() "
   ]
  },
  {
   "cell_type": "code",
   "execution_count": null,
   "metadata": {},
   "outputs": [],
   "source": []
  }
 ],
 "metadata": {
  "colab": {
   "collapsed_sections": [],
   "name": "L04.ipynb",
   "provenance": []
  },
  "kernelspec": {
   "display_name": "Python 3 (ipykernel)",
   "language": "python",
   "name": "python3"
  },
  "language_info": {
   "codemirror_mode": {
    "name": "ipython",
    "version": 3
   },
   "file_extension": ".py",
   "mimetype": "text/x-python",
   "name": "python",
   "nbconvert_exporter": "python",
   "pygments_lexer": "ipython3",
   "version": "3.12.5"
  }
 },
 "nbformat": 4,
 "nbformat_minor": 4
}
