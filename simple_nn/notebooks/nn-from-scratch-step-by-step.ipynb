{
 "cells": [
  {
   "cell_type": "markdown",
   "id": "8642db8a",
   "metadata": {
    "id": "rI5gqoZCZVrJ",
    "papermill": {
     "duration": 0.010616,
     "end_time": "2025-02-24T17:27:13.460270",
     "exception": false,
     "start_time": "2025-02-24T17:27:13.449654",
     "status": "completed"
    },
    "tags": []
   },
   "source": [
    "# Import Libraries and Read Datasets"
   ]
  },
  {
   "cell_type": "code",
   "execution_count": 1,
   "id": "50fd7a4a",
   "metadata": {
    "execution": {
     "iopub.execute_input": "2025-02-24T17:27:13.481344Z",
     "iopub.status.busy": "2025-02-24T17:27:13.480962Z",
     "iopub.status.idle": "2025-02-24T17:27:14.487504Z",
     "shell.execute_reply": "2025-02-24T17:27:14.486527Z"
    },
    "id": "BBgymHDLmx8D",
    "papermill": {
     "duration": 1.018963,
     "end_time": "2025-02-24T17:27:14.489223",
     "exception": false,
     "start_time": "2025-02-24T17:27:13.470260",
     "status": "completed"
    },
    "tags": []
   },
   "outputs": [],
   "source": [
    "import numpy as np\n",
    "import pandas as pd"
   ]
  },
  {
   "cell_type": "code",
   "execution_count": 2,
   "id": "022483a4",
   "metadata": {
    "execution": {
     "iopub.execute_input": "2025-02-24T17:27:14.509884Z",
     "iopub.status.busy": "2025-02-24T17:27:14.509392Z",
     "iopub.status.idle": "2025-02-24T17:27:19.457204Z",
     "shell.execute_reply": "2025-02-24T17:27:19.455846Z"
    },
    "id": "DBkthk72YXe5",
    "papermill": {
     "duration": 4.960773,
     "end_time": "2025-02-24T17:27:19.459889",
     "exception": false,
     "start_time": "2025-02-24T17:27:14.499116",
     "status": "completed"
    },
    "tags": []
   },
   "outputs": [],
   "source": [
    "df = pd.read_csv('/kaggle/input/digit-recognizer/train.csv')\n",
    "df_test = pd.read_csv('/kaggle/input/digit-recognizer/test.csv')"
   ]
  },
  {
   "cell_type": "code",
   "execution_count": 3,
   "id": "53e84dae",
   "metadata": {
    "execution": {
     "iopub.execute_input": "2025-02-24T17:27:19.481953Z",
     "iopub.status.busy": "2025-02-24T17:27:19.481624Z",
     "iopub.status.idle": "2025-02-24T17:27:19.512365Z",
     "shell.execute_reply": "2025-02-24T17:27:19.511165Z"
    },
    "id": "NbmM7deQYgsR",
    "outputId": "9956f5cd-3a51-4b5d-c46d-6b61ed24b592",
    "papermill": {
     "duration": 0.043941,
     "end_time": "2025-02-24T17:27:19.514486",
     "exception": false,
     "start_time": "2025-02-24T17:27:19.470545",
     "status": "completed"
    },
    "tags": []
   },
   "outputs": [
    {
     "data": {
      "text/html": [
       "<div>\n",
       "<style scoped>\n",
       "    .dataframe tbody tr th:only-of-type {\n",
       "        vertical-align: middle;\n",
       "    }\n",
       "\n",
       "    .dataframe tbody tr th {\n",
       "        vertical-align: top;\n",
       "    }\n",
       "\n",
       "    .dataframe thead th {\n",
       "        text-align: right;\n",
       "    }\n",
       "</style>\n",
       "<table border=\"1\" class=\"dataframe\">\n",
       "  <thead>\n",
       "    <tr style=\"text-align: right;\">\n",
       "      <th></th>\n",
       "      <th>label</th>\n",
       "      <th>pixel0</th>\n",
       "      <th>pixel1</th>\n",
       "      <th>pixel2</th>\n",
       "      <th>pixel3</th>\n",
       "      <th>pixel4</th>\n",
       "      <th>pixel5</th>\n",
       "      <th>pixel6</th>\n",
       "      <th>pixel7</th>\n",
       "      <th>pixel8</th>\n",
       "      <th>...</th>\n",
       "      <th>pixel774</th>\n",
       "      <th>pixel775</th>\n",
       "      <th>pixel776</th>\n",
       "      <th>pixel777</th>\n",
       "      <th>pixel778</th>\n",
       "      <th>pixel779</th>\n",
       "      <th>pixel780</th>\n",
       "      <th>pixel781</th>\n",
       "      <th>pixel782</th>\n",
       "      <th>pixel783</th>\n",
       "    </tr>\n",
       "  </thead>\n",
       "  <tbody>\n",
       "    <tr>\n",
       "      <th>0</th>\n",
       "      <td>1</td>\n",
       "      <td>0</td>\n",
       "      <td>0</td>\n",
       "      <td>0</td>\n",
       "      <td>0</td>\n",
       "      <td>0</td>\n",
       "      <td>0</td>\n",
       "      <td>0</td>\n",
       "      <td>0</td>\n",
       "      <td>0</td>\n",
       "      <td>...</td>\n",
       "      <td>0</td>\n",
       "      <td>0</td>\n",
       "      <td>0</td>\n",
       "      <td>0</td>\n",
       "      <td>0</td>\n",
       "      <td>0</td>\n",
       "      <td>0</td>\n",
       "      <td>0</td>\n",
       "      <td>0</td>\n",
       "      <td>0</td>\n",
       "    </tr>\n",
       "    <tr>\n",
       "      <th>1</th>\n",
       "      <td>0</td>\n",
       "      <td>0</td>\n",
       "      <td>0</td>\n",
       "      <td>0</td>\n",
       "      <td>0</td>\n",
       "      <td>0</td>\n",
       "      <td>0</td>\n",
       "      <td>0</td>\n",
       "      <td>0</td>\n",
       "      <td>0</td>\n",
       "      <td>...</td>\n",
       "      <td>0</td>\n",
       "      <td>0</td>\n",
       "      <td>0</td>\n",
       "      <td>0</td>\n",
       "      <td>0</td>\n",
       "      <td>0</td>\n",
       "      <td>0</td>\n",
       "      <td>0</td>\n",
       "      <td>0</td>\n",
       "      <td>0</td>\n",
       "    </tr>\n",
       "    <tr>\n",
       "      <th>2</th>\n",
       "      <td>1</td>\n",
       "      <td>0</td>\n",
       "      <td>0</td>\n",
       "      <td>0</td>\n",
       "      <td>0</td>\n",
       "      <td>0</td>\n",
       "      <td>0</td>\n",
       "      <td>0</td>\n",
       "      <td>0</td>\n",
       "      <td>0</td>\n",
       "      <td>...</td>\n",
       "      <td>0</td>\n",
       "      <td>0</td>\n",
       "      <td>0</td>\n",
       "      <td>0</td>\n",
       "      <td>0</td>\n",
       "      <td>0</td>\n",
       "      <td>0</td>\n",
       "      <td>0</td>\n",
       "      <td>0</td>\n",
       "      <td>0</td>\n",
       "    </tr>\n",
       "    <tr>\n",
       "      <th>3</th>\n",
       "      <td>4</td>\n",
       "      <td>0</td>\n",
       "      <td>0</td>\n",
       "      <td>0</td>\n",
       "      <td>0</td>\n",
       "      <td>0</td>\n",
       "      <td>0</td>\n",
       "      <td>0</td>\n",
       "      <td>0</td>\n",
       "      <td>0</td>\n",
       "      <td>...</td>\n",
       "      <td>0</td>\n",
       "      <td>0</td>\n",
       "      <td>0</td>\n",
       "      <td>0</td>\n",
       "      <td>0</td>\n",
       "      <td>0</td>\n",
       "      <td>0</td>\n",
       "      <td>0</td>\n",
       "      <td>0</td>\n",
       "      <td>0</td>\n",
       "    </tr>\n",
       "    <tr>\n",
       "      <th>4</th>\n",
       "      <td>0</td>\n",
       "      <td>0</td>\n",
       "      <td>0</td>\n",
       "      <td>0</td>\n",
       "      <td>0</td>\n",
       "      <td>0</td>\n",
       "      <td>0</td>\n",
       "      <td>0</td>\n",
       "      <td>0</td>\n",
       "      <td>0</td>\n",
       "      <td>...</td>\n",
       "      <td>0</td>\n",
       "      <td>0</td>\n",
       "      <td>0</td>\n",
       "      <td>0</td>\n",
       "      <td>0</td>\n",
       "      <td>0</td>\n",
       "      <td>0</td>\n",
       "      <td>0</td>\n",
       "      <td>0</td>\n",
       "      <td>0</td>\n",
       "    </tr>\n",
       "  </tbody>\n",
       "</table>\n",
       "<p>5 rows × 785 columns</p>\n",
       "</div>"
      ],
      "text/plain": [
       "   label  pixel0  pixel1  pixel2  pixel3  pixel4  pixel5  pixel6  pixel7  \\\n",
       "0      1       0       0       0       0       0       0       0       0   \n",
       "1      0       0       0       0       0       0       0       0       0   \n",
       "2      1       0       0       0       0       0       0       0       0   \n",
       "3      4       0       0       0       0       0       0       0       0   \n",
       "4      0       0       0       0       0       0       0       0       0   \n",
       "\n",
       "   pixel8  ...  pixel774  pixel775  pixel776  pixel777  pixel778  pixel779  \\\n",
       "0       0  ...         0         0         0         0         0         0   \n",
       "1       0  ...         0         0         0         0         0         0   \n",
       "2       0  ...         0         0         0         0         0         0   \n",
       "3       0  ...         0         0         0         0         0         0   \n",
       "4       0  ...         0         0         0         0         0         0   \n",
       "\n",
       "   pixel780  pixel781  pixel782  pixel783  \n",
       "0         0         0         0         0  \n",
       "1         0         0         0         0  \n",
       "2         0         0         0         0  \n",
       "3         0         0         0         0  \n",
       "4         0         0         0         0  \n",
       "\n",
       "[5 rows x 785 columns]"
      ]
     },
     "execution_count": 3,
     "metadata": {},
     "output_type": "execute_result"
    }
   ],
   "source": [
    "df.head()"
   ]
  },
  {
   "cell_type": "code",
   "execution_count": 4,
   "id": "9986dd5d",
   "metadata": {
    "execution": {
     "iopub.execute_input": "2025-02-24T17:27:19.541262Z",
     "iopub.status.busy": "2025-02-24T17:27:19.540773Z",
     "iopub.status.idle": "2025-02-24T17:27:19.599521Z",
     "shell.execute_reply": "2025-02-24T17:27:19.598313Z"
    },
    "id": "OXiNpcyUZf3D",
    "outputId": "c2dfbf58-0ed0-406e-8bc4-c330ffcfe299",
    "papermill": {
     "duration": 0.07228,
     "end_time": "2025-02-24T17:27:19.601075",
     "exception": false,
     "start_time": "2025-02-24T17:27:19.528795",
     "status": "completed"
    },
    "tags": []
   },
   "outputs": [
    {
     "name": "stdout",
     "output_type": "stream",
     "text": [
      "<class 'pandas.core.frame.DataFrame'>\n",
      "RangeIndex: 42000 entries, 0 to 41999\n",
      "Columns: 785 entries, label to pixel783\n",
      "dtypes: int64(785)\n",
      "memory usage: 251.5 MB\n"
     ]
    }
   ],
   "source": [
    "df.info()"
   ]
  },
  {
   "cell_type": "code",
   "execution_count": 5,
   "id": "81de8dd5",
   "metadata": {
    "execution": {
     "iopub.execute_input": "2025-02-24T17:27:19.623275Z",
     "iopub.status.busy": "2025-02-24T17:27:19.622952Z",
     "iopub.status.idle": "2025-02-24T17:27:21.497376Z",
     "shell.execute_reply": "2025-02-24T17:27:21.496381Z"
    },
    "id": "G1Om8UY5ZhTF",
    "outputId": "ac9ade4d-a87e-4d82-bed2-9bf71e17d110",
    "papermill": {
     "duration": 1.887017,
     "end_time": "2025-02-24T17:27:21.499095",
     "exception": false,
     "start_time": "2025-02-24T17:27:19.612078",
     "status": "completed"
    },
    "tags": []
   },
   "outputs": [
    {
     "data": {
      "text/html": [
       "<div>\n",
       "<style scoped>\n",
       "    .dataframe tbody tr th:only-of-type {\n",
       "        vertical-align: middle;\n",
       "    }\n",
       "\n",
       "    .dataframe tbody tr th {\n",
       "        vertical-align: top;\n",
       "    }\n",
       "\n",
       "    .dataframe thead th {\n",
       "        text-align: right;\n",
       "    }\n",
       "</style>\n",
       "<table border=\"1\" class=\"dataframe\">\n",
       "  <thead>\n",
       "    <tr style=\"text-align: right;\">\n",
       "      <th></th>\n",
       "      <th>label</th>\n",
       "      <th>pixel0</th>\n",
       "      <th>pixel1</th>\n",
       "      <th>pixel2</th>\n",
       "      <th>pixel3</th>\n",
       "      <th>pixel4</th>\n",
       "      <th>pixel5</th>\n",
       "      <th>pixel6</th>\n",
       "      <th>pixel7</th>\n",
       "      <th>pixel8</th>\n",
       "      <th>...</th>\n",
       "      <th>pixel774</th>\n",
       "      <th>pixel775</th>\n",
       "      <th>pixel776</th>\n",
       "      <th>pixel777</th>\n",
       "      <th>pixel778</th>\n",
       "      <th>pixel779</th>\n",
       "      <th>pixel780</th>\n",
       "      <th>pixel781</th>\n",
       "      <th>pixel782</th>\n",
       "      <th>pixel783</th>\n",
       "    </tr>\n",
       "  </thead>\n",
       "  <tbody>\n",
       "    <tr>\n",
       "      <th>count</th>\n",
       "      <td>42000.000000</td>\n",
       "      <td>42000.0</td>\n",
       "      <td>42000.0</td>\n",
       "      <td>42000.0</td>\n",
       "      <td>42000.0</td>\n",
       "      <td>42000.0</td>\n",
       "      <td>42000.0</td>\n",
       "      <td>42000.0</td>\n",
       "      <td>42000.0</td>\n",
       "      <td>42000.0</td>\n",
       "      <td>...</td>\n",
       "      <td>42000.000000</td>\n",
       "      <td>42000.000000</td>\n",
       "      <td>42000.000000</td>\n",
       "      <td>42000.00000</td>\n",
       "      <td>42000.000000</td>\n",
       "      <td>42000.000000</td>\n",
       "      <td>42000.0</td>\n",
       "      <td>42000.0</td>\n",
       "      <td>42000.0</td>\n",
       "      <td>42000.0</td>\n",
       "    </tr>\n",
       "    <tr>\n",
       "      <th>mean</th>\n",
       "      <td>4.456643</td>\n",
       "      <td>0.0</td>\n",
       "      <td>0.0</td>\n",
       "      <td>0.0</td>\n",
       "      <td>0.0</td>\n",
       "      <td>0.0</td>\n",
       "      <td>0.0</td>\n",
       "      <td>0.0</td>\n",
       "      <td>0.0</td>\n",
       "      <td>0.0</td>\n",
       "      <td>...</td>\n",
       "      <td>0.219286</td>\n",
       "      <td>0.117095</td>\n",
       "      <td>0.059024</td>\n",
       "      <td>0.02019</td>\n",
       "      <td>0.017238</td>\n",
       "      <td>0.002857</td>\n",
       "      <td>0.0</td>\n",
       "      <td>0.0</td>\n",
       "      <td>0.0</td>\n",
       "      <td>0.0</td>\n",
       "    </tr>\n",
       "    <tr>\n",
       "      <th>std</th>\n",
       "      <td>2.887730</td>\n",
       "      <td>0.0</td>\n",
       "      <td>0.0</td>\n",
       "      <td>0.0</td>\n",
       "      <td>0.0</td>\n",
       "      <td>0.0</td>\n",
       "      <td>0.0</td>\n",
       "      <td>0.0</td>\n",
       "      <td>0.0</td>\n",
       "      <td>0.0</td>\n",
       "      <td>...</td>\n",
       "      <td>6.312890</td>\n",
       "      <td>4.633819</td>\n",
       "      <td>3.274488</td>\n",
       "      <td>1.75987</td>\n",
       "      <td>1.894498</td>\n",
       "      <td>0.414264</td>\n",
       "      <td>0.0</td>\n",
       "      <td>0.0</td>\n",
       "      <td>0.0</td>\n",
       "      <td>0.0</td>\n",
       "    </tr>\n",
       "    <tr>\n",
       "      <th>min</th>\n",
       "      <td>0.000000</td>\n",
       "      <td>0.0</td>\n",
       "      <td>0.0</td>\n",
       "      <td>0.0</td>\n",
       "      <td>0.0</td>\n",
       "      <td>0.0</td>\n",
       "      <td>0.0</td>\n",
       "      <td>0.0</td>\n",
       "      <td>0.0</td>\n",
       "      <td>0.0</td>\n",
       "      <td>...</td>\n",
       "      <td>0.000000</td>\n",
       "      <td>0.000000</td>\n",
       "      <td>0.000000</td>\n",
       "      <td>0.00000</td>\n",
       "      <td>0.000000</td>\n",
       "      <td>0.000000</td>\n",
       "      <td>0.0</td>\n",
       "      <td>0.0</td>\n",
       "      <td>0.0</td>\n",
       "      <td>0.0</td>\n",
       "    </tr>\n",
       "    <tr>\n",
       "      <th>25%</th>\n",
       "      <td>2.000000</td>\n",
       "      <td>0.0</td>\n",
       "      <td>0.0</td>\n",
       "      <td>0.0</td>\n",
       "      <td>0.0</td>\n",
       "      <td>0.0</td>\n",
       "      <td>0.0</td>\n",
       "      <td>0.0</td>\n",
       "      <td>0.0</td>\n",
       "      <td>0.0</td>\n",
       "      <td>...</td>\n",
       "      <td>0.000000</td>\n",
       "      <td>0.000000</td>\n",
       "      <td>0.000000</td>\n",
       "      <td>0.00000</td>\n",
       "      <td>0.000000</td>\n",
       "      <td>0.000000</td>\n",
       "      <td>0.0</td>\n",
       "      <td>0.0</td>\n",
       "      <td>0.0</td>\n",
       "      <td>0.0</td>\n",
       "    </tr>\n",
       "    <tr>\n",
       "      <th>50%</th>\n",
       "      <td>4.000000</td>\n",
       "      <td>0.0</td>\n",
       "      <td>0.0</td>\n",
       "      <td>0.0</td>\n",
       "      <td>0.0</td>\n",
       "      <td>0.0</td>\n",
       "      <td>0.0</td>\n",
       "      <td>0.0</td>\n",
       "      <td>0.0</td>\n",
       "      <td>0.0</td>\n",
       "      <td>...</td>\n",
       "      <td>0.000000</td>\n",
       "      <td>0.000000</td>\n",
       "      <td>0.000000</td>\n",
       "      <td>0.00000</td>\n",
       "      <td>0.000000</td>\n",
       "      <td>0.000000</td>\n",
       "      <td>0.0</td>\n",
       "      <td>0.0</td>\n",
       "      <td>0.0</td>\n",
       "      <td>0.0</td>\n",
       "    </tr>\n",
       "    <tr>\n",
       "      <th>75%</th>\n",
       "      <td>7.000000</td>\n",
       "      <td>0.0</td>\n",
       "      <td>0.0</td>\n",
       "      <td>0.0</td>\n",
       "      <td>0.0</td>\n",
       "      <td>0.0</td>\n",
       "      <td>0.0</td>\n",
       "      <td>0.0</td>\n",
       "      <td>0.0</td>\n",
       "      <td>0.0</td>\n",
       "      <td>...</td>\n",
       "      <td>0.000000</td>\n",
       "      <td>0.000000</td>\n",
       "      <td>0.000000</td>\n",
       "      <td>0.00000</td>\n",
       "      <td>0.000000</td>\n",
       "      <td>0.000000</td>\n",
       "      <td>0.0</td>\n",
       "      <td>0.0</td>\n",
       "      <td>0.0</td>\n",
       "      <td>0.0</td>\n",
       "    </tr>\n",
       "    <tr>\n",
       "      <th>max</th>\n",
       "      <td>9.000000</td>\n",
       "      <td>0.0</td>\n",
       "      <td>0.0</td>\n",
       "      <td>0.0</td>\n",
       "      <td>0.0</td>\n",
       "      <td>0.0</td>\n",
       "      <td>0.0</td>\n",
       "      <td>0.0</td>\n",
       "      <td>0.0</td>\n",
       "      <td>0.0</td>\n",
       "      <td>...</td>\n",
       "      <td>254.000000</td>\n",
       "      <td>254.000000</td>\n",
       "      <td>253.000000</td>\n",
       "      <td>253.00000</td>\n",
       "      <td>254.000000</td>\n",
       "      <td>62.000000</td>\n",
       "      <td>0.0</td>\n",
       "      <td>0.0</td>\n",
       "      <td>0.0</td>\n",
       "      <td>0.0</td>\n",
       "    </tr>\n",
       "  </tbody>\n",
       "</table>\n",
       "<p>8 rows × 785 columns</p>\n",
       "</div>"
      ],
      "text/plain": [
       "              label   pixel0   pixel1   pixel2   pixel3   pixel4   pixel5  \\\n",
       "count  42000.000000  42000.0  42000.0  42000.0  42000.0  42000.0  42000.0   \n",
       "mean       4.456643      0.0      0.0      0.0      0.0      0.0      0.0   \n",
       "std        2.887730      0.0      0.0      0.0      0.0      0.0      0.0   \n",
       "min        0.000000      0.0      0.0      0.0      0.0      0.0      0.0   \n",
       "25%        2.000000      0.0      0.0      0.0      0.0      0.0      0.0   \n",
       "50%        4.000000      0.0      0.0      0.0      0.0      0.0      0.0   \n",
       "75%        7.000000      0.0      0.0      0.0      0.0      0.0      0.0   \n",
       "max        9.000000      0.0      0.0      0.0      0.0      0.0      0.0   \n",
       "\n",
       "        pixel6   pixel7   pixel8  ...      pixel774      pixel775  \\\n",
       "count  42000.0  42000.0  42000.0  ...  42000.000000  42000.000000   \n",
       "mean       0.0      0.0      0.0  ...      0.219286      0.117095   \n",
       "std        0.0      0.0      0.0  ...      6.312890      4.633819   \n",
       "min        0.0      0.0      0.0  ...      0.000000      0.000000   \n",
       "25%        0.0      0.0      0.0  ...      0.000000      0.000000   \n",
       "50%        0.0      0.0      0.0  ...      0.000000      0.000000   \n",
       "75%        0.0      0.0      0.0  ...      0.000000      0.000000   \n",
       "max        0.0      0.0      0.0  ...    254.000000    254.000000   \n",
       "\n",
       "           pixel776     pixel777      pixel778      pixel779  pixel780  \\\n",
       "count  42000.000000  42000.00000  42000.000000  42000.000000   42000.0   \n",
       "mean       0.059024      0.02019      0.017238      0.002857       0.0   \n",
       "std        3.274488      1.75987      1.894498      0.414264       0.0   \n",
       "min        0.000000      0.00000      0.000000      0.000000       0.0   \n",
       "25%        0.000000      0.00000      0.000000      0.000000       0.0   \n",
       "50%        0.000000      0.00000      0.000000      0.000000       0.0   \n",
       "75%        0.000000      0.00000      0.000000      0.000000       0.0   \n",
       "max      253.000000    253.00000    254.000000     62.000000       0.0   \n",
       "\n",
       "       pixel781  pixel782  pixel783  \n",
       "count   42000.0   42000.0   42000.0  \n",
       "mean        0.0       0.0       0.0  \n",
       "std         0.0       0.0       0.0  \n",
       "min         0.0       0.0       0.0  \n",
       "25%         0.0       0.0       0.0  \n",
       "50%         0.0       0.0       0.0  \n",
       "75%         0.0       0.0       0.0  \n",
       "max         0.0       0.0       0.0  \n",
       "\n",
       "[8 rows x 785 columns]"
      ]
     },
     "execution_count": 5,
     "metadata": {},
     "output_type": "execute_result"
    }
   ],
   "source": [
    "df.describe()"
   ]
  },
  {
   "cell_type": "markdown",
   "id": "7dc1749c",
   "metadata": {
    "id": "Ai7EArpHZtmv",
    "papermill": {
     "duration": 0.010191,
     "end_time": "2025-02-24T17:27:21.519871",
     "exception": false,
     "start_time": "2025-02-24T17:27:21.509680",
     "status": "completed"
    },
    "tags": []
   },
   "source": [
    "# Check for Missing Data"
   ]
  },
  {
   "cell_type": "code",
   "execution_count": 6,
   "id": "da4c17e9",
   "metadata": {
    "execution": {
     "iopub.execute_input": "2025-02-24T17:27:21.541872Z",
     "iopub.status.busy": "2025-02-24T17:27:21.541498Z",
     "iopub.status.idle": "2025-02-24T17:27:21.580834Z",
     "shell.execute_reply": "2025-02-24T17:27:21.579760Z"
    },
    "id": "5ZBPy1y9ZjlT",
    "outputId": "fbd4ccc0-c917-4604-aa49-84812f69c839",
    "papermill": {
     "duration": 0.052292,
     "end_time": "2025-02-24T17:27:21.582498",
     "exception": false,
     "start_time": "2025-02-24T17:27:21.530206",
     "status": "completed"
    },
    "tags": []
   },
   "outputs": [
    {
     "name": "stdout",
     "output_type": "stream",
     "text": [
      "\n",
      "Does the training data have any missing values? False\n"
     ]
    }
   ],
   "source": [
    "# Check if there is any missing information in the training dataset.\n",
    "has_missing = any(df.isnull().sum().tolist())\n",
    "print(f\"\\nDoes the training data have any missing values? {has_missing}\")\n",
    "# Note: The dataset does not contain any null values."
   ]
  },
  {
   "cell_type": "markdown",
   "id": "601ff20e",
   "metadata": {
    "id": "Y-nX2ajnYogW",
    "papermill": {
     "duration": 0.010208,
     "end_time": "2025-02-24T17:27:21.603507",
     "exception": false,
     "start_time": "2025-02-24T17:27:21.593299",
     "status": "completed"
    },
    "tags": []
   },
   "source": [
    "# Visualize a Sample Image from the Dataset"
   ]
  },
  {
   "cell_type": "code",
   "execution_count": 7,
   "id": "a36ce81b",
   "metadata": {
    "execution": {
     "iopub.execute_input": "2025-02-24T17:27:21.625829Z",
     "iopub.status.busy": "2025-02-24T17:27:21.625505Z",
     "iopub.status.idle": "2025-02-24T17:27:21.629216Z",
     "shell.execute_reply": "2025-02-24T17:27:21.628386Z"
    },
    "id": "b7OljMW_YiGX",
    "papermill": {
     "duration": 0.016483,
     "end_time": "2025-02-24T17:27:21.630760",
     "exception": false,
     "start_time": "2025-02-24T17:27:21.614277",
     "status": "completed"
    },
    "tags": []
   },
   "outputs": [],
   "source": [
    "import matplotlib.pyplot as plt"
   ]
  },
  {
   "cell_type": "code",
   "execution_count": 8,
   "id": "815405d1",
   "metadata": {
    "execution": {
     "iopub.execute_input": "2025-02-24T17:27:21.653097Z",
     "iopub.status.busy": "2025-02-24T17:27:21.652769Z",
     "iopub.status.idle": "2025-02-24T17:27:21.658152Z",
     "shell.execute_reply": "2025-02-24T17:27:21.657156Z"
    },
    "id": "5PT0GEDAYwon",
    "outputId": "6d19ddf1-318f-44cc-bc95-10ecbcbbc8ae",
    "papermill": {
     "duration": 0.018322,
     "end_time": "2025-02-24T17:27:21.659791",
     "exception": false,
     "start_time": "2025-02-24T17:27:21.641469",
     "status": "completed"
    },
    "tags": []
   },
   "outputs": [
    {
     "name": "stderr",
     "output_type": "stream",
     "text": [
      "<ipython-input-8-6cc93ef1d8ef>:4: FutureWarning: Series.__getitem__ treating keys as positions is deprecated. In a future version, integer keys will always be treated as labels (consistent with DataFrame behavior). To access a value by position, use `ser.iloc[pos]`\n",
      "  image_label = df.iloc[10][0]\n"
     ]
    }
   ],
   "source": [
    "# The dataset contains 784 pixel values per image (28x28 pixels).\n",
    "# Here we select the 11th record (index 10) and reshape it to display the image.\n",
    "image = df.iloc[10][1:].to_numpy().reshape(28, 28)\n",
    "image_label = df.iloc[10][0]"
   ]
  },
  {
   "cell_type": "code",
   "execution_count": 9,
   "id": "e8f4d230",
   "metadata": {
    "execution": {
     "iopub.execute_input": "2025-02-24T17:27:21.682066Z",
     "iopub.status.busy": "2025-02-24T17:27:21.681739Z",
     "iopub.status.idle": "2025-02-24T17:27:21.870694Z",
     "shell.execute_reply": "2025-02-24T17:27:21.869781Z"
    },
    "id": "0Xavw2kLZNL7",
    "outputId": "9fccb4b1-5d13-4506-ad1a-bf34e6fdfb58",
    "papermill": {
     "duration": 0.201843,
     "end_time": "2025-02-24T17:27:21.872236",
     "exception": false,
     "start_time": "2025-02-24T17:27:21.670393",
     "status": "completed"
    },
    "tags": []
   },
   "outputs": [
    {
     "data": {
      "image/png": "[encoded data removed]",
      "text/plain": [
       "<Figure size 640x480 with 1 Axes>"
      ]
     },
     "metadata": {},
     "output_type": "display_data"
    }
   ],
   "source": [
    "plt.imshow(image, cmap='gray')\n",
    "plt.title(f\"Label: {image_label}\")\n",
    "plt.axis('off')\n",
    "plt.show()"
   ]
  },
  {
   "cell_type": "markdown",
   "id": "8357669a",
   "metadata": {
    "id": "djGKeE7hZ0qN",
    "papermill": {
     "duration": 0.010504,
     "end_time": "2025-02-24T17:27:21.893580",
     "exception": false,
     "start_time": "2025-02-24T17:27:21.883076",
     "status": "completed"
    },
    "tags": []
   },
   "source": [
    "Now Let's build Neural Network:\n",
    "- `From Scratch` => Detailed\n",
    "- `Using Keras Library` => Easy"
   ]
  },
  {
   "cell_type": "markdown",
   "id": "3b4812fd",
   "metadata": {
    "id": "8-_7VI67d_6P",
    "papermill": {
     "duration": 0.010519,
     "end_time": "2025-02-24T17:27:21.915339",
     "exception": false,
     "start_time": "2025-02-24T17:27:21.904820",
     "status": "completed"
    },
    "tags": []
   },
   "source": [
    "# Neural Network From Scratch - Setup and Data Preparation"
   ]
  },
  {
   "cell_type": "code",
   "execution_count": 10,
   "id": "a8c4e53c",
   "metadata": {
    "execution": {
     "iopub.execute_input": "2025-02-24T17:27:21.938111Z",
     "iopub.status.busy": "2025-02-24T17:27:21.937745Z",
     "iopub.status.idle": "2025-02-24T17:27:23.521434Z",
     "shell.execute_reply": "2025-02-24T17:27:23.520375Z"
    },
    "id": "us_cz0YOZ0cm",
    "papermill": {
     "duration": 1.597171,
     "end_time": "2025-02-24T17:27:23.523311",
     "exception": false,
     "start_time": "2025-02-24T17:27:21.926140",
     "status": "completed"
    },
    "tags": []
   },
   "outputs": [],
   "source": [
    "from sklearn.model_selection import train_test_split\n",
    "from sklearn.preprocessing import OneHotEncoder"
   ]
  },
  {
   "cell_type": "code",
   "execution_count": 11,
   "id": "a431506b",
   "metadata": {
    "execution": {
     "iopub.execute_input": "2025-02-24T17:27:23.547608Z",
     "iopub.status.busy": "2025-02-24T17:27:23.547061Z",
     "iopub.status.idle": "2025-02-24T17:27:27.080363Z",
     "shell.execute_reply": "2025-02-24T17:27:27.079508Z"
    },
    "id": "ZVpnWxs7eD_d",
    "papermill": {
     "duration": 3.547778,
     "end_time": "2025-02-24T17:27:27.082290",
     "exception": false,
     "start_time": "2025-02-24T17:27:23.534512",
     "status": "completed"
    },
    "tags": []
   },
   "outputs": [],
   "source": [
    "# Load dataset again (if running this cell independently)\n",
    "df = pd.read_csv('/kaggle/input/digit-recognizer/train.csv')\n",
    "df_test = pd.read_csv('/kaggle/input/digit-recognizer/test.csv')\n",
    "\n",
    "# Extract features (pixel values) and labels from the dataset.\n",
    "# Normalize pixel values to [0, 1] by dividing by 255.\n",
    "X = df.iloc[:, 1:].values.astype(np.float32) / 255.0\n",
    "y = df.iloc[:, 0].values.astype(np.int64)"
   ]
  },
  {
   "cell_type": "markdown",
   "id": "24005b30",
   "metadata": {
    "id": "5jH9hJFcfORy",
    "papermill": {
     "duration": 0.01021,
     "end_time": "2025-02-24T17:27:27.103441",
     "exception": false,
     "start_time": "2025-02-24T17:27:27.093231",
     "status": "completed"
    },
    "tags": []
   },
   "source": [
    "## Now let's make one hot encoding for labels"
   ]
  },
  {
   "cell_type": "markdown",
   "id": "02ca9bea",
   "metadata": {
    "papermill": {
     "duration": 0.010176,
     "end_time": "2025-02-24T17:27:27.124242",
     "exception": false,
     "start_time": "2025-02-24T17:27:27.114066",
     "status": "completed"
    },
    "tags": []
   },
   "source": [
    "`why?`\n",
    "\n",
    "- Because when we use numbers like (1 or 2 or 3 and so on), it misleads the model and makes it understand that the probability of `y = 3` is more like `2` than `8` for example. But in the real image the number `3` is more similar to `8` than `2` so it may mislead the model.\n",
    "\n",
    "**So we need to make one-hot encoding**"
   ]
  },
  {
   "cell_type": "code",
   "execution_count": 12,
   "id": "fee96afe",
   "metadata": {
    "execution": {
     "iopub.execute_input": "2025-02-24T17:27:27.146556Z",
     "iopub.status.busy": "2025-02-24T17:27:27.146156Z",
     "iopub.status.idle": "2025-02-24T17:27:27.159518Z",
     "shell.execute_reply": "2025-02-24T17:27:27.158540Z"
    },
    "id": "yosCLx8ceEmA",
    "papermill": {
     "duration": 0.026281,
     "end_time": "2025-02-24T17:27:27.161080",
     "exception": false,
     "start_time": "2025-02-24T17:27:27.134799",
     "status": "completed"
    },
    "tags": []
   },
   "outputs": [],
   "source": [
    "# One-hot encode labels\n",
    "encoder = OneHotEncoder(sparse_output=False) # for memory effiecent\n",
    "y_onehot = encoder.fit_transform(y.reshape(-1, 1))"
   ]
  },
  {
   "cell_type": "code",
   "execution_count": 13,
   "id": "25b82646",
   "metadata": {
    "execution": {
     "iopub.execute_input": "2025-02-24T17:27:27.183624Z",
     "iopub.status.busy": "2025-02-24T17:27:27.183213Z",
     "iopub.status.idle": "2025-02-24T17:27:27.586406Z",
     "shell.execute_reply": "2025-02-24T17:27:27.585516Z"
    },
    "id": "dhktcMoDeEgv",
    "papermill": {
     "duration": 0.416325,
     "end_time": "2025-02-24T17:27:27.588206",
     "exception": false,
     "start_time": "2025-02-24T17:27:27.171881",
     "status": "completed"
    },
    "tags": []
   },
   "outputs": [],
   "source": [
    "# Train-Test Split\n",
    "X_train, X_test, y_train, y_test = train_test_split(X, y_onehot, test_size=0.2, random_state=42)\n",
    "X_train, X_val, y_train, y_val = train_test_split(X_train, y_train, test_size=0.2, random_state=42)"
   ]
  },
  {
   "cell_type": "markdown",
   "id": "cbfd1acc",
   "metadata": {
    "id": "LvlM0sfLgiEu",
    "papermill": {
     "duration": 0.010865,
     "end_time": "2025-02-24T17:27:27.610459",
     "exception": false,
     "start_time": "2025-02-24T17:27:27.599594",
     "status": "completed"
    },
    "tags": []
   },
   "source": [
    "## Neural Network From Scratch - Define Hyperparameters & Initialize Parameters"
   ]
  },
  {
   "cell_type": "code",
   "execution_count": 14,
   "id": "052d22ca",
   "metadata": {
    "execution": {
     "iopub.execute_input": "2025-02-24T17:27:27.633250Z",
     "iopub.status.busy": "2025-02-24T17:27:27.632914Z",
     "iopub.status.idle": "2025-02-24T17:27:27.643556Z",
     "shell.execute_reply": "2025-02-24T17:27:27.642692Z"
    },
    "id": "tiQU618oeEcQ",
    "papermill": {
     "duration": 0.023858,
     "end_time": "2025-02-24T17:27:27.645184",
     "exception": false,
     "start_time": "2025-02-24T17:27:27.621326",
     "status": "completed"
    },
    "tags": []
   },
   "outputs": [],
   "source": [
    "# Define network architecture and hyperparameters.\n",
    "input_size   = 784     # Each image is 28x28 pixels\n",
    "hidden_size1 = 128     # First hidden layer neurons\n",
    "hidden_size2 = 64      # Second hidden layer neurons\n",
    "output_size  = 10      # 10 classes for digits 0-9\n",
    "\n",
    "alpha   = 0.001        # Learning rate\n",
    "beta1   = 0.9          # Adam optimizer parameter\n",
    "beta2   = 0.999        # Adam optimizer parameter\n",
    "epsilon = 1e-8         # Small constant to prevent division by zero\n",
    "\n",
    "# Xavier (He) initialization for weights and zero initialization for biases.\n",
    "np.random.seed(42)\n",
    "W1 = np.random.randn(input_size, hidden_size1) * np.sqrt(2.0 / input_size)\n",
    "b1 = np.zeros((1, hidden_size1))\n",
    "W2 = np.random.randn(hidden_size1, hidden_size2) * np.sqrt(2.0 / hidden_size1)\n",
    "b2 = np.zeros((1, hidden_size2))\n",
    "W3 = np.random.randn(hidden_size2, output_size) * np.sqrt(2.0 / hidden_size2)\n",
    "b3 = np.zeros((1, output_size))\n",
    "\n",
    "# Initialize Adam optimizer variables (moving averages and variances) for each layer.\n",
    "moving_avg_W1, moving_var_W1 = np.zeros_like(W1), np.zeros_like(W1)\n",
    "moving_avg_b1, moving_var_b1 = np.zeros_like(b1), np.zeros_like(b1)\n",
    "moving_avg_W2, moving_var_W2 = np.zeros_like(W2), np.zeros_like(W2)\n",
    "moving_avg_b2, moving_var_b2 = np.zeros_like(b2), np.zeros_like(b2)\n",
    "moving_avg_W3, moving_var_W3 = np.zeros_like(W3), np.zeros_like(W3)\n",
    "moving_avg_b3, moving_var_b3 = np.zeros_like(b3), np.zeros_like(b3)"
   ]
  },
  {
   "cell_type": "markdown",
   "id": "c7e10216",
   "metadata": {
    "id": "plPOhjFpipdi",
    "papermill": {
     "duration": 0.010359,
     "end_time": "2025-02-24T17:27:27.666448",
     "exception": false,
     "start_time": "2025-02-24T17:27:27.656089",
     "status": "completed"
    },
    "tags": []
   },
   "source": [
    "## Define Activation Functions and Loss Function"
   ]
  },
  {
   "cell_type": "markdown",
   "id": "108604c2",
   "metadata": {
    "id": "AWv3pPZcig0Q",
    "papermill": {
     "duration": 0.010299,
     "end_time": "2025-02-24T17:27:27.687305",
     "exception": false,
     "start_time": "2025-02-24T17:27:27.677006",
     "status": "completed"
    },
    "tags": []
   },
   "source": [
    "$$\n",
    "f(x) = \\max(0, x)\n",
    "$$"
   ]
  },
  {
   "cell_type": "code",
   "execution_count": 15,
   "id": "3253cb20",
   "metadata": {
    "execution": {
     "iopub.execute_input": "2025-02-24T17:27:27.709705Z",
     "iopub.status.busy": "2025-02-24T17:27:27.709349Z",
     "iopub.status.idle": "2025-02-24T17:27:27.713479Z",
     "shell.execute_reply": "2025-02-24T17:27:27.712660Z"
    },
    "id": "AY9Tw6hBeEZ6",
    "papermill": {
     "duration": 0.017028,
     "end_time": "2025-02-24T17:27:27.714907",
     "exception": false,
     "start_time": "2025-02-24T17:27:27.697879",
     "status": "completed"
    },
    "tags": []
   },
   "outputs": [],
   "source": [
    "def relu(Z):\n",
    "  \"\"\"ReLU activation function.\"\"\"\n",
    "  return np.maximum(0, Z)"
   ]
  },
  {
   "cell_type": "markdown",
   "id": "0f9902e9",
   "metadata": {
    "id": "XYKAYz0phNj0",
    "papermill": {
     "duration": 0.010758,
     "end_time": "2025-02-24T17:27:27.737009",
     "exception": false,
     "start_time": "2025-02-24T17:27:27.726251",
     "status": "completed"
    },
    "tags": []
   },
   "source": [
    "$$\n",
    "S_i = \\frac{e^{z_i}}{\\sum_{j} e^{z_j}}\n",
    "$$"
   ]
  },
  {
   "cell_type": "code",
   "execution_count": 16,
   "id": "8af50ed6",
   "metadata": {
    "execution": {
     "iopub.execute_input": "2025-02-24T17:27:27.760929Z",
     "iopub.status.busy": "2025-02-24T17:27:27.760586Z",
     "iopub.status.idle": "2025-02-24T17:27:27.764821Z",
     "shell.execute_reply": "2025-02-24T17:27:27.763930Z"
    },
    "id": "eZLnu0SaeEXz",
    "papermill": {
     "duration": 0.017672,
     "end_time": "2025-02-24T17:27:27.766379",
     "exception": false,
     "start_time": "2025-02-24T17:27:27.748707",
     "status": "completed"
    },
    "tags": []
   },
   "outputs": [],
   "source": [
    "def softmax(Z):\n",
    "  \"\"\"Softmax activation function for multi-class output.\"\"\"\n",
    "  exp_Z = np.exp(Z)\n",
    "  return exp_Z / np.sum(exp_Z, axis=1, keepdims=True) # Keepdims => to ensure that it will keep the same dimensions"
   ]
  },
  {
   "cell_type": "markdown",
   "id": "beac38b9",
   "metadata": {
    "id": "VyC7lZf3jc93",
    "papermill": {
     "duration": 0.010372,
     "end_time": "2025-02-24T17:27:27.787643",
     "exception": false,
     "start_time": "2025-02-24T17:27:27.777271",
     "status": "completed"
    },
    "tags": []
   },
   "source": [
    "## Compute loss"
   ]
  },
  {
   "cell_type": "markdown",
   "id": "befff517",
   "metadata": {
    "id": "j-UYMJavkFgq",
    "papermill": {
     "duration": 0.010315,
     "end_time": "2025-02-24T17:27:27.808908",
     "exception": false,
     "start_time": "2025-02-24T17:27:27.798593",
     "status": "completed"
    },
    "tags": []
   },
   "source": [
    "$$\n",
    "\\mathcal{L} = -\\frac{1}{m} \\sum_{i=1}^{m} \\sum_{j=1}^{C} y_{ij} \\log(\\hat{y}_{ij} + \\epsilon)\n",
    "$$\n"
   ]
  },
  {
   "cell_type": "code",
   "execution_count": 17,
   "id": "1b729cc0",
   "metadata": {
    "execution": {
     "iopub.execute_input": "2025-02-24T17:27:27.831527Z",
     "iopub.status.busy": "2025-02-24T17:27:27.831149Z",
     "iopub.status.idle": "2025-02-24T17:27:27.835197Z",
     "shell.execute_reply": "2025-02-24T17:27:27.834321Z"
    },
    "id": "tkViCIc9eEVV",
    "papermill": {
     "duration": 0.016963,
     "end_time": "2025-02-24T17:27:27.836573",
     "exception": false,
     "start_time": "2025-02-24T17:27:27.819610",
     "status": "completed"
    },
    "tags": []
   },
   "outputs": [],
   "source": [
    "def compute_loss(Y, Y_hat):\n",
    "  \"\"\"Compute cross-entropy loss with epsilon smoothing.\"\"\"\n",
    "  return -np.mean(Y * np.log(Y_hat + epsilon)) # to avoid infinte values from 'log(0)'"
   ]
  },
  {
   "cell_type": "markdown",
   "id": "7895ad9d",
   "metadata": {
    "id": "kBHuLQSZkZYu",
    "papermill": {
     "duration": 0.010992,
     "end_time": "2025-02-24T17:27:27.858495",
     "exception": false,
     "start_time": "2025-02-24T17:27:27.847503",
     "status": "completed"
    },
    "tags": []
   },
   "source": [
    "##  Forward Propagation Function"
   ]
  },
  {
   "cell_type": "markdown",
   "id": "0e32a3dc",
   "metadata": {
    "papermill": {
     "duration": 0.010701,
     "end_time": "2025-02-24T17:27:27.880624",
     "exception": false,
     "start_time": "2025-02-24T17:27:27.869923",
     "status": "completed"
    },
    "tags": []
   },
   "source": []
  },
  {
   "cell_type": "markdown",
   "id": "db01eca6",
   "metadata": {
    "id": "kfOGNCgokmtB",
    "papermill": {
     "duration": 0.010481,
     "end_time": "2025-02-24T17:27:27.901866",
     "exception": false,
     "start_time": "2025-02-24T17:27:27.891385",
     "status": "completed"
    },
    "tags": []
   },
   "source": [
    "1. **First Layer:**\n",
    "   $$\n",
    "   Z_1 = X W_1 + b_1\n",
    "   $$\n",
    "   $$\n",
    "   A_1 = \\text{ReLU}(Z_1)\n",
    "   $$\n",
    "\n",
    "2. **Second Layer:**\n",
    "   $$\n",
    "   Z_2 = A_1 W_2 + b_2\n",
    "   $$\n",
    "   $$\n",
    "   A_2 = \\text{ReLU}(Z_2)\n",
    "   $$\n",
    "\n",
    "3. **Third Layer (Output Layer):**\n",
    "   $$\n",
    "   Z_3 = A_2 W_3 + b_3\n",
    "   $$\n",
    "   $$\n",
    "   A_3 = \\text{Softmax}(Z_3)\n",
    "   $$"
   ]
  },
  {
   "cell_type": "code",
   "execution_count": 18,
   "id": "8ebd1ca1",
   "metadata": {
    "execution": {
     "iopub.execute_input": "2025-02-24T17:27:27.924817Z",
     "iopub.status.busy": "2025-02-24T17:27:27.924448Z",
     "iopub.status.idle": "2025-02-24T17:27:27.928925Z",
     "shell.execute_reply": "2025-02-24T17:27:27.928090Z"
    },
    "id": "nU0aRRBReETH",
    "papermill": {
     "duration": 0.017575,
     "end_time": "2025-02-24T17:27:27.930271",
     "exception": false,
     "start_time": "2025-02-24T17:27:27.912696",
     "status": "completed"
    },
    "tags": []
   },
   "outputs": [],
   "source": [
    "def forward_propagation(X):\n",
    "    \"\"\"\n",
    "    Perform forward propagation through the network.\n",
    "    Returns:\n",
    "      Z1, A1, Z2, A2, Z3, A3: Intermediate computations for backpropagation.\n",
    "    \"\"\"\n",
    "    Z1 = X @ W1 + b1\n",
    "    A1 = relu(Z1)\n",
    "\n",
    "    Z2 = A1 @ W2 + b2\n",
    "    A2 = relu(Z2)\n",
    "\n",
    "    Z3 = A2 @ W3 + b3\n",
    "    A3 = softmax(Z3)\n",
    "\n",
    "    return Z1, A1, Z2, A2, Z3, A3"
   ]
  },
  {
   "cell_type": "markdown",
   "id": "6909ad5c",
   "metadata": {
    "id": "8emhRPC6ka1F",
    "papermill": {
     "duration": 0.010554,
     "end_time": "2025-02-24T17:27:27.951564",
     "exception": false,
     "start_time": "2025-02-24T17:27:27.941010",
     "status": "completed"
    },
    "tags": []
   },
   "source": [
    "## Backward Propagation Function"
   ]
  },
  {
   "cell_type": "markdown",
   "id": "67466489",
   "metadata": {
    "id": "boKuxsN3lXPf",
    "papermill": {
     "duration": 0.06476,
     "end_time": "2025-02-24T17:27:28.027112",
     "exception": false,
     "start_time": "2025-02-24T17:27:27.962352",
     "status": "completed"
    },
    "tags": []
   },
   "source": [
    "1. **Compute Output Layer Gradients:**\n",
    "   $$\n",
    "   dZ_3 = A_3 - Y\n",
    "   $$\n",
    "   $$\n",
    "   dW_3 = \\frac{1}{m} A_2^T dZ_3\n",
    "   $$\n",
    "   $$\n",
    "   db_3 = \\frac{1}{m} \\sum dZ_3\n",
    "   $$\n",
    "\n",
    "2. **Compute Hidden Layer 2 Gradients:**\n",
    "   $$\n",
    "   dA_2 = dZ_3 W_3^T\n",
    "   $$\n",
    "   $$\n",
    "   dZ_2 = dA_2 \\cdot \\text{ReLU}'(Z_2)\n",
    "   $$\n",
    "   $$\n",
    "   dW_2 = \\frac{1}{m} A_1^T dZ_2\n",
    "   $$\n",
    "   $$\n",
    "   db_2 = \\frac{1}{m} \\sum dZ_2\n",
    "   $$\n",
    "\n",
    "3. **Compute Hidden Layer 1 Gradients:**\n",
    "   $$\n",
    "   dA_1 = dZ_2 W_2^T\n",
    "   $$\n",
    "   $$\n",
    "   dZ_1 = dA_1 \\cdot \\text{ReLU}'(Z_1)\n",
    "   $$\n",
    "   $$\n",
    "   dW_1 = \\frac{1}{m} X^T dZ_1\n",
    "   $$\n",
    "   $$\n",
    "   db_1 = \\frac{1}{m} \\sum dZ_1\n",
    "   $$"
   ]
  },
  {
   "cell_type": "code",
   "execution_count": 19,
   "id": "368dcb41",
   "metadata": {
    "execution": {
     "iopub.execute_input": "2025-02-24T17:27:28.051072Z",
     "iopub.status.busy": "2025-02-24T17:27:28.050688Z",
     "iopub.status.idle": "2025-02-24T17:27:28.056704Z",
     "shell.execute_reply": "2025-02-24T17:27:28.055554Z"
    },
    "id": "QtM51ekLjbbP",
    "papermill": {
     "duration": 0.020312,
     "end_time": "2025-02-24T17:27:28.058303",
     "exception": false,
     "start_time": "2025-02-24T17:27:28.037991",
     "status": "completed"
    },
    "tags": []
   },
   "outputs": [],
   "source": [
    "def backward_propagation(X, Y, Z1, A1, Z2, A2, Z3, A3):\n",
    "    \"\"\"\n",
    "    Perform backward propagation to compute gradients for all parameters.\n",
    "    Returns:\n",
    "      Gradients for W1, b1, W2, b2, W3, b3.\n",
    "    \"\"\"\n",
    "    m = X.shape[0]  # number of samples in the batch\n",
    "\n",
    "    # Output layer gradients\n",
    "    dZ3 = A3 - Y\n",
    "    dW3 = (A2.T @ dZ3) / m\n",
    "    db3 = np.sum(dZ3, axis=0, keepdims=True) / m\n",
    "\n",
    "    # Second hidden layer gradients\n",
    "    dA2 = dZ3 @ W3.T\n",
    "    dZ2 = dA2 * (Z2 > 0)  # derivative of ReLU\n",
    "    dW2 = (A1.T @ dZ2) / m\n",
    "    db2 = np.sum(dZ2, axis=0, keepdims=True) / m\n",
    "\n",
    "    # First hidden layer gradients\n",
    "    dA1 = dZ2 @ W2.T\n",
    "    dZ1 = dA1 * (Z1 > 0)  # derivative of ReLU\n",
    "    dW1 = (X.T @ dZ1) / m\n",
    "    db1 = np.sum(dZ1, axis=0, keepdims=True) / m\n",
    "\n",
    "    return dW1, db1, dW2, db2, dW3, db3"
   ]
  },
  {
   "cell_type": "markdown",
   "id": "75ec7224",
   "metadata": {
    "id": "7a1tbkDJk6zM",
    "papermill": {
     "duration": 0.011126,
     "end_time": "2025-02-24T17:27:28.080894",
     "exception": false,
     "start_time": "2025-02-24T17:27:28.069768",
     "status": "completed"
    },
    "tags": []
   },
   "source": [
    "## Adam Optimizer Update Function"
   ]
  },
  {
   "cell_type": "markdown",
   "id": "c99e6d54",
   "metadata": {
    "id": "go0hzVJClDVc",
    "papermill": {
     "duration": 0.01094,
     "end_time": "2025-02-24T17:27:28.103242",
     "exception": false,
     "start_time": "2025-02-24T17:27:28.092302",
     "status": "completed"
    },
    "tags": []
   },
   "source": [
    "1. **Compute Moving Averages for Weight Gradients:**\n",
    "   $$\n",
    "   m_W = \\beta_1 m_W + (1 - \\beta_1) \\cdot \\nabla W\n",
    "   $$\n",
    "   $$\n",
    "   v_W = \\beta_2 v_W + (1 - \\beta_2) \\cdot (\\nabla W)^2\n",
    "   $$\n",
    "\n",
    "2. **Compute Moving Averages for Bias Gradients:**\n",
    "   $$\n",
    "   m_b = \\beta_1 m_b + (1 - \\beta_1) \\cdot \\nabla b\n",
    "   $$\n",
    "   $$\n",
    "   v_b = \\beta_2 v_b + (1 - \\beta_2) \\cdot (\\nabla b)^2\n",
    "   $$\n",
    "\n",
    "3. **Apply Bias Correction:**\n",
    "   $$\n",
    "   \\hat{m}_W = \\frac{m_W}{1 - \\beta_1^t}, \\quad \\hat{v}_W = \\frac{v_W}{1 - \\beta_2^t}\n",
    "   $$\n",
    "   $$\n",
    "   \\hat{m}_b = \\frac{m_b}{1 - \\beta_1^t}, \\quad \\hat{v}_b = \\frac{v_b}{1 - \\beta_2^t}\n",
    "   $$\n",
    "\n",
    "4. **Compute Weight and Bias Updates:**\n",
    "   $$\n",
    "   \\Delta W = \\alpha \\cdot \\frac{\\hat{m}_W}{\\sqrt{\\hat{v}_W} + \\epsilon}\n",
    "   $$\n",
    "   $$\n",
    "   \\Delta b = \\alpha \\cdot \\frac{\\hat{m}_b}{\\sqrt{\\hat{v}_b} + \\epsilon}\n",
    "   $$"
   ]
  },
  {
   "cell_type": "code",
   "execution_count": 20,
   "id": "3cb82f66",
   "metadata": {
    "execution": {
     "iopub.execute_input": "2025-02-24T17:27:28.126318Z",
     "iopub.status.busy": "2025-02-24T17:27:28.125986Z",
     "iopub.status.idle": "2025-02-24T17:27:28.132088Z",
     "shell.execute_reply": "2025-02-24T17:27:28.130865Z"
    },
    "id": "P1kBcFxHjbZM",
    "papermill": {
     "duration": 0.019331,
     "end_time": "2025-02-24T17:27:28.133556",
     "exception": false,
     "start_time": "2025-02-24T17:27:28.114225",
     "status": "completed"
    },
    "tags": []
   },
   "outputs": [],
   "source": [
    "def adam_update(time_step, weight_gradient, bias_gradient, moving_avg_weight, moving_var_weight, moving_avg_bias, moving_var_bias):\n",
    "    \"\"\"\n",
    "    Update parameters using the Adam optimization algorithm.\n",
    "    Returns:\n",
    "      weight_update, bias_update and updated moving averages and variances.\n",
    "    \"\"\"\n",
    "    # Compute moving averages for weight gradients\n",
    "    moving_avg_weight = beta1 * moving_avg_weight + (1 - beta1) * weight_gradient\n",
    "    moving_var_weight = beta2 * moving_var_weight + (1 - beta2) * (weight_gradient ** 2)\n",
    "\n",
    "    # Compute moving averages for bias gradients\n",
    "    moving_avg_bias = beta1 * moving_avg_bias + (1 - beta1) * bias_gradient\n",
    "    moving_var_bias = beta2 * moving_var_bias + (1 - beta2) * (bias_gradient ** 2)\n",
    "\n",
    "    # Apply weight and bias correction\n",
    "    corrected_moving_avg_weight = moving_avg_weight / (1 - beta1 ** time_step)\n",
    "    corrected_moving_var_weight = moving_var_weight / (1 - beta2 ** time_step)\n",
    "\n",
    "    corrected_moving_avg_bias = moving_avg_bias / (1 - beta1 ** time_step)\n",
    "    corrected_moving_var_bias = moving_var_bias / (1 - beta2 ** time_step)\n",
    "\n",
    "    # Compute weight and bias updates\n",
    "    weight_update = alpha * corrected_moving_avg_weight / (np.sqrt(corrected_moving_var_weight) + epsilon)\n",
    "    bias_update = alpha * corrected_moving_avg_bias / (np.sqrt(corrected_moving_var_bias) + epsilon)\n",
    "\n",
    "    return weight_update, bias_update, moving_avg_weight, moving_var_weight, moving_avg_bias, moving_var_bias"
   ]
  },
  {
   "cell_type": "markdown",
   "id": "19e954b8",
   "metadata": {
    "id": "Y079-xNaoK4V",
    "papermill": {
     "duration": 0.010447,
     "end_time": "2025-02-24T17:27:28.154801",
     "exception": false,
     "start_time": "2025-02-24T17:27:28.144354",
     "status": "completed"
    },
    "tags": []
   },
   "source": [
    "## Training the Neural Network From Scratch"
   ]
  },
  {
   "cell_type": "code",
   "execution_count": 21,
   "id": "394eb19e",
   "metadata": {
    "execution": {
     "iopub.execute_input": "2025-02-24T17:27:28.178234Z",
     "iopub.status.busy": "2025-02-24T17:27:28.177875Z",
     "iopub.status.idle": "2025-02-24T17:27:28.181820Z",
     "shell.execute_reply": "2025-02-24T17:27:28.180847Z"
    },
    "id": "HM9Gvzs0jbWt",
    "papermill": {
     "duration": 0.017119,
     "end_time": "2025-02-24T17:27:28.183250",
     "exception": false,
     "start_time": "2025-02-24T17:27:28.166131",
     "status": "completed"
    },
    "tags": []
   },
   "outputs": [],
   "source": [
    "epochs = 10\n",
    "batch_size = 32"
   ]
  },
  {
   "cell_type": "code",
   "execution_count": 22,
   "id": "33e0d9c1",
   "metadata": {
    "execution": {
     "iopub.execute_input": "2025-02-24T17:27:28.206089Z",
     "iopub.status.busy": "2025-02-24T17:27:28.205712Z",
     "iopub.status.idle": "2025-02-24T17:27:47.613959Z",
     "shell.execute_reply": "2025-02-24T17:27:47.612816Z"
    },
    "id": "FpkUE2k_jbU2",
    "outputId": "a3cfc03d-bf62-42d0-b270-e3e221f7aeb8",
    "papermill": {
     "duration": 19.421728,
     "end_time": "2025-02-24T17:27:47.615828",
     "exception": false,
     "start_time": "2025-02-24T17:27:28.194100",
     "status": "completed"
    },
    "tags": []
   },
   "outputs": [
    {
     "name": "stdout",
     "output_type": "stream",
     "text": [
      "Epoch 1/10, Loss: 0.0163\n",
      "Epoch 2/10, Loss: 0.0120\n",
      "Epoch 3/10, Loss: 0.0097\n",
      "Epoch 4/10, Loss: 0.0083\n",
      "Epoch 5/10, Loss: 0.0072\n",
      "Epoch 6/10, Loss: 0.0063\n",
      "Epoch 7/10, Loss: 0.0056\n",
      "Epoch 8/10, Loss: 0.0050\n",
      "Epoch 9/10, Loss: 0.0045\n",
      "Epoch 10/10, Loss: 0.0041\n"
     ]
    }
   ],
   "source": [
    "for epoch in range(epochs):\n",
    "  for i in range(0, X_train.shape[0], batch_size):\n",
    "    X_batch = X_train[i: i+batch_size]\n",
    "    Y_batch = y_train[i: i+batch_size]\n",
    "\n",
    "    # Forward pass\n",
    "    Z1, A1, Z2, A2, Z3, A3 = forward_propagation(X_batch)\n",
    "\n",
    "    # Compute gradients\n",
    "    dW1, db1, dW2, db2, dW3, db3 = backward_propagation(X_batch, Y_batch, Z1, A1, Z2, A2, Z3, A3)\n",
    "\n",
    "    # Update weights using Adam optimizer\n",
    "    W1_update, b1_update, moving_avg_W1, moving_var_W1, moving_avg_b1, moving_var_b1 = adam_update(epoch + 1, dW1, db1, moving_avg_W1, moving_var_W1, moving_avg_b1, moving_var_b1)\n",
    "\n",
    "    W2_update, b2_update, moving_avg_W2, moving_var_W2, moving_avg_b2, moving_var_b2 = adam_update(epoch + 1, dW2, db2, moving_avg_W2, moving_var_W2, moving_avg_b2, moving_var_b2)\n",
    "\n",
    "    W3_update, b3_update, moving_avg_W3, moving_var_W3, moving_avg_b3, moving_var_b3 = adam_update(epoch + 1, dW3, db3, moving_avg_W3, moving_var_W3, moving_avg_b3, moving_var_b3)\n",
    "\n",
    "    # Apply updates\n",
    "    W1 -= W1_update\n",
    "    b1 -= b1_update\n",
    "    W2 -= W2_update\n",
    "    b2 -= b2_update\n",
    "    W3 -= W3_update\n",
    "    b3 -= b3_update\n",
    "\n",
    "  # Evaluate loss after each epoch\n",
    "  _, _, _, _, _, A3 = forward_propagation(X_train)\n",
    "  loss = compute_loss(y_train, A3)\n",
    "  print(f\"Epoch {epoch+1}/{epochs}, Loss: {loss:.4f}\")"
   ]
  },
  {
   "cell_type": "markdown",
   "id": "ee60219d",
   "metadata": {
    "id": "LPdl25CmpgG2",
    "papermill": {
     "duration": 0.010727,
     "end_time": "2025-02-24T17:27:47.638301",
     "exception": false,
     "start_time": "2025-02-24T17:27:47.627574",
     "status": "completed"
    },
    "tags": []
   },
   "source": [
    "## Evaluate the Custom Neural Network"
   ]
  },
  {
   "cell_type": "code",
   "execution_count": 23,
   "id": "30618a89",
   "metadata": {
    "execution": {
     "iopub.execute_input": "2025-02-24T17:27:47.662108Z",
     "iopub.status.busy": "2025-02-24T17:27:47.661725Z",
     "iopub.status.idle": "2025-02-24T17:27:47.724109Z",
     "shell.execute_reply": "2025-02-24T17:27:47.722959Z"
    },
    "id": "opkUkoBvjbS9",
    "outputId": "806f4ca8-8e20-429e-a7f7-95a811ce8ab8",
    "papermill": {
     "duration": 0.075972,
     "end_time": "2025-02-24T17:27:47.725674",
     "exception": false,
     "start_time": "2025-02-24T17:27:47.649702",
     "status": "completed"
    },
    "tags": []
   },
   "outputs": [
    {
     "name": "stdout",
     "output_type": "stream",
     "text": [
      "Test Accuracy: 96.75%\n"
     ]
    }
   ],
   "source": [
    "# Forward propagation on test set to obtain predictions.\n",
    "_, _, _, _, _, A3_test = forward_propagation(X_test)\n",
    "predictions = np.argmax(A3_test, axis=1)\n",
    "labels = np.argmax(y_test, axis=1)\n",
    "accuracy = np.mean(predictions == labels)\n",
    "print(f\"Test Accuracy: {accuracy * 100:.2f}%\")"
   ]
  },
  {
   "cell_type": "code",
   "execution_count": 24,
   "id": "f697fd08",
   "metadata": {
    "execution": {
     "iopub.execute_input": "2025-02-24T17:27:47.749794Z",
     "iopub.status.busy": "2025-02-24T17:27:47.749401Z",
     "iopub.status.idle": "2025-02-24T17:27:48.325262Z",
     "shell.execute_reply": "2025-02-24T17:27:48.324279Z"
    },
    "id": "EEo8dmV_p_DK",
    "outputId": "cd6d0d40-4032-4040-f479-e3bd49d0ac63",
    "papermill": {
     "duration": 0.589972,
     "end_time": "2025-02-24T17:27:48.327073",
     "exception": false,
     "start_time": "2025-02-24T17:27:47.737101",
     "status": "completed"
    },
    "tags": []
   },
   "outputs": [
    {
     "data": {
      "image/png": "[encoded data removed]",
      "text/plain": [
       "<Figure size 1200x600 with 10 Axes>"
      ]
     },
     "metadata": {},
     "output_type": "display_data"
    }
   ],
   "source": [
    "# visualize predictions on validation set\n",
    "n_images = 10\n",
    "plt.figure(figsize=(12, 6))\n",
    "for i in range(n_images):\n",
    "    plt.subplot(1, n_images, i + 1)\n",
    "    image = X_val[i].reshape(28, 28)\n",
    "\n",
    "    # Predict for a single sample (reshaped to match input dimensions)\n",
    "    _, _, _, _, _, A3_val = forward_propagation(X_val[i].reshape(1, -1))\n",
    "    predicted_label = np.argmax(A3_val, axis=1)[0]\n",
    "    true_label = np.argmax(y_val[i])\n",
    "\n",
    "    plt.imshow(image, cmap='gray')\n",
    "    plt.axis('off')\n",
    "    plt.title(f\"True: {true_label}\\nPred: {predicted_label}\")\n",
    "plt.tight_layout()\n",
    "plt.show()"
   ]
  },
  {
   "cell_type": "markdown",
   "id": "ac5929e1",
   "metadata": {
    "id": "PbE9NZdgaSm8",
    "papermill": {
     "duration": 0.011424,
     "end_time": "2025-02-24T17:27:48.350361",
     "exception": false,
     "start_time": "2025-02-24T17:27:48.338937",
     "status": "completed"
    },
    "tags": []
   },
   "source": [
    "# Neural Network Using Keras - Data Preparation"
   ]
  },
  {
   "cell_type": "code",
   "execution_count": 25,
   "id": "af5305dc",
   "metadata": {
    "execution": {
     "iopub.execute_input": "2025-02-24T17:27:48.375201Z",
     "iopub.status.busy": "2025-02-24T17:27:48.374841Z",
     "iopub.status.idle": "2025-02-24T17:27:48.438243Z",
     "shell.execute_reply": "2025-02-24T17:27:48.437222Z"
    },
    "id": "mxNQAwt6ZPLq",
    "papermill": {
     "duration": 0.077834,
     "end_time": "2025-02-24T17:27:48.439978",
     "exception": false,
     "start_time": "2025-02-24T17:27:48.362144",
     "status": "completed"
    },
    "tags": []
   },
   "outputs": [],
   "source": [
    "# Extract Features (Pixels) and Labels\n",
    "X = df.iloc[:,1:].values.astype('float32') # Convert features to float32\n",
    "y = df.iloc[:,0].values.astype('int64') # Convert labels to int64"
   ]
  },
  {
   "cell_type": "code",
   "execution_count": 26,
   "id": "8773e8df",
   "metadata": {
    "execution": {
     "iopub.execute_input": "2025-02-24T17:27:48.466633Z",
     "iopub.status.busy": "2025-02-24T17:27:48.466238Z",
     "iopub.status.idle": "2025-02-24T17:27:48.847258Z",
     "shell.execute_reply": "2025-02-24T17:27:48.846459Z"
    },
    "id": "-IbDylYAaoBB",
    "papermill": {
     "duration": 0.396078,
     "end_time": "2025-02-24T17:27:48.848947",
     "exception": false,
     "start_time": "2025-02-24T17:27:48.452869",
     "status": "completed"
    },
    "tags": []
   },
   "outputs": [],
   "source": [
    "# Train-Test Split\n",
    "X_train, X_test, y_train, y_test = train_test_split(X, y, test_size=0.2, random_state=42)\n",
    "\n",
    "# Train-Validation Split\n",
    "X_train, X_val, y_train, y_val = train_test_split(X_train, y_train, test_size=0.2, random_state=42)"
   ]
  },
  {
   "cell_type": "code",
   "execution_count": 27,
   "id": "88f7d0db",
   "metadata": {
    "execution": {
     "iopub.execute_input": "2025-02-24T17:27:48.873842Z",
     "iopub.status.busy": "2025-02-24T17:27:48.873488Z",
     "iopub.status.idle": "2025-02-24T17:27:48.878457Z",
     "shell.execute_reply": "2025-02-24T17:27:48.877388Z"
    },
    "id": "1eAOXFdKa5sy",
    "outputId": "1ec0eeb7-8614-4758-f45a-817dc086e103",
    "papermill": {
     "duration": 0.019037,
     "end_time": "2025-02-24T17:27:48.879912",
     "exception": false,
     "start_time": "2025-02-24T17:27:48.860875",
     "status": "completed"
    },
    "tags": []
   },
   "outputs": [
    {
     "name": "stdout",
     "output_type": "stream",
     "text": [
      "X_train shape: (26880, 784), y_train shape: (26880,)\n",
      "X_val shape: (6720, 784), y_val shape: (6720,)\n"
     ]
    }
   ],
   "source": [
    "# Check shapes\n",
    "print(f\"X_train shape: {X_train.shape}, y_train shape: {y_train.shape}\")\n",
    "print(f\"X_val shape: {X_val.shape}, y_val shape: {y_val.shape}\")"
   ]
  },
  {
   "cell_type": "code",
   "execution_count": 28,
   "id": "5bbfee3c",
   "metadata": {
    "execution": {
     "iopub.execute_input": "2025-02-24T17:27:48.904785Z",
     "iopub.status.busy": "2025-02-24T17:27:48.904382Z",
     "iopub.status.idle": "2025-02-24T17:27:48.943316Z",
     "shell.execute_reply": "2025-02-24T17:27:48.942283Z"
    },
    "id": "bJGU2saxa7yZ",
    "papermill": {
     "duration": 0.053285,
     "end_time": "2025-02-24T17:27:48.945163",
     "exception": false,
     "start_time": "2025-02-24T17:27:48.891878",
     "status": "completed"
    },
    "tags": []
   },
   "outputs": [],
   "source": [
    "# Normalize Data (Scale pixel values to [0,1])\n",
    "X_train, X_val, X_test = X_train / 255.0, X_val / 255.0, X_test / 255.0"
   ]
  },
  {
   "cell_type": "markdown",
   "id": "f1989bcf",
   "metadata": {
    "id": "1-R17oGXciDu",
    "papermill": {
     "duration": 0.011916,
     "end_time": "2025-02-24T17:27:48.969383",
     "exception": false,
     "start_time": "2025-02-24T17:27:48.957467",
     "status": "completed"
    },
    "tags": []
   },
   "source": [
    "## Build and Compile the Keras Model"
   ]
  },
  {
   "cell_type": "code",
   "execution_count": 29,
   "id": "c20df22e",
   "metadata": {
    "execution": {
     "iopub.execute_input": "2025-02-24T17:27:48.994139Z",
     "iopub.status.busy": "2025-02-24T17:27:48.993812Z",
     "iopub.status.idle": "2025-02-24T17:28:04.065468Z",
     "shell.execute_reply": "2025-02-24T17:28:04.064318Z"
    },
    "id": "2INorfAubSnq",
    "papermill": {
     "duration": 15.08607,
     "end_time": "2025-02-24T17:28:04.067264",
     "exception": false,
     "start_time": "2025-02-24T17:27:48.981194",
     "status": "completed"
    },
    "tags": []
   },
   "outputs": [],
   "source": [
    "import tensorflow as tf"
   ]
  },
  {
   "cell_type": "code",
   "execution_count": 30,
   "id": "4da82187",
   "metadata": {
    "execution": {
     "iopub.execute_input": "2025-02-24T17:28:04.093366Z",
     "iopub.status.busy": "2025-02-24T17:28:04.092719Z",
     "iopub.status.idle": "2025-02-24T17:28:04.255698Z",
     "shell.execute_reply": "2025-02-24T17:28:04.254656Z"
    },
    "id": "gqEH55GIbQKR",
    "outputId": "6b1eb928-c05a-4233-f1f3-693f2741904c",
    "papermill": {
     "duration": 0.177543,
     "end_time": "2025-02-24T17:28:04.257446",
     "exception": false,
     "start_time": "2025-02-24T17:28:04.079903",
     "status": "completed"
    },
    "tags": []
   },
   "outputs": [
    {
     "name": "stderr",
     "output_type": "stream",
     "text": [
      "/usr/local/lib/python3.10/dist-packages/keras/src/layers/core/dense.py:87: UserWarning: Do not pass an `input_shape`/`input_dim` argument to a layer. When using Sequential models, prefer using an `Input(shape)` object as the first layer in the model instead.\n",
      "  super().__init__(activity_regularizer=activity_regularizer, **kwargs)\n"
     ]
    }
   ],
   "source": [
    "model = tf.keras.Sequential([\n",
    "    tf.keras.layers.Dense(128, activation='relu', input_shape = (784,)), # intiallize the input and first layer with 128 neurons\n",
    "    tf.keras.layers.Dropout(0.2), # this is to avoid over fitting\n",
    "    tf.keras.layers.Dense(64, activation='relu'), # second layer contain 64 neurons\n",
    "    tf.keras.layers.Dense(10, activation='softmax') # final layer has 10 neurons - only 10 different output values\n",
    "])"
   ]
  },
  {
   "cell_type": "code",
   "execution_count": 31,
   "id": "99625bac",
   "metadata": {
    "execution": {
     "iopub.execute_input": "2025-02-24T17:28:04.282939Z",
     "iopub.status.busy": "2025-02-24T17:28:04.282580Z",
     "iopub.status.idle": "2025-02-24T17:28:04.295492Z",
     "shell.execute_reply": "2025-02-24T17:28:04.294502Z"
    },
    "id": "p7tNHVa2cHZQ",
    "papermill": {
     "duration": 0.027365,
     "end_time": "2025-02-24T17:28:04.297304",
     "exception": false,
     "start_time": "2025-02-24T17:28:04.269939",
     "status": "completed"
    },
    "tags": []
   },
   "outputs": [],
   "source": [
    "model.compile(optimizer='adam', loss='sparse_categorical_crossentropy', metrics=['accuracy'])"
   ]
  },
  {
   "cell_type": "markdown",
   "id": "64db73f4",
   "metadata": {
    "id": "lMa4Qd1IC-uA",
    "papermill": {
     "duration": 0.01199,
     "end_time": "2025-02-24T17:28:04.321649",
     "exception": false,
     "start_time": "2025-02-24T17:28:04.309659",
     "status": "completed"
    },
    "tags": []
   },
   "source": [
    "## Train the Keras Model"
   ]
  },
  {
   "cell_type": "code",
   "execution_count": 32,
   "id": "2ae2f385",
   "metadata": {
    "execution": {
     "iopub.execute_input": "2025-02-24T17:28:04.347066Z",
     "iopub.status.busy": "2025-02-24T17:28:04.346725Z",
     "iopub.status.idle": "2025-02-24T17:28:27.317110Z",
     "shell.execute_reply": "2025-02-24T17:28:27.316140Z"
    },
    "id": "JAHHU-hxcTNO",
    "outputId": "b1ab0271-c503-4ae4-9a06-4312c4205286",
    "papermill": {
     "duration": 22.984917,
     "end_time": "2025-02-24T17:28:27.318879",
     "exception": false,
     "start_time": "2025-02-24T17:28:04.333962",
     "status": "completed"
    },
    "tags": []
   },
   "outputs": [
    {
     "name": "stdout",
     "output_type": "stream",
     "text": [
      "Epoch 1/10\n",
      "\u001b[1m840/840\u001b[0m \u001b[32m━━━━━━━━━━━━━━━━━━━━\u001b[0m\u001b[37m\u001b[0m \u001b[1m3s\u001b[0m 3ms/step - accuracy: 0.7929 - loss: 0.6799 - val_accuracy: 0.9445 - val_loss: 0.1957\n",
      "Epoch 2/10\n",
      "\u001b[1m840/840\u001b[0m \u001b[32m━━━━━━━━━━━━━━━━━━━━\u001b[0m\u001b[37m\u001b[0m \u001b[1m2s\u001b[0m 2ms/step - accuracy: 0.9415 - loss: 0.1953 - val_accuracy: 0.9577 - val_loss: 0.1464\n",
      "Epoch 3/10\n",
      "\u001b[1m840/840\u001b[0m \u001b[32m━━━━━━━━━━━━━━━━━━━━\u001b[0m\u001b[37m\u001b[0m \u001b[1m2s\u001b[0m 3ms/step - accuracy: 0.9611 - loss: 0.1317 - val_accuracy: 0.9665 - val_loss: 0.1182\n",
      "Epoch 4/10\n",
      "\u001b[1m840/840\u001b[0m \u001b[32m━━━━━━━━━━━━━━━━━━━━\u001b[0m\u001b[37m\u001b[0m \u001b[1m2s\u001b[0m 2ms/step - accuracy: 0.9682 - loss: 0.1067 - val_accuracy: 0.9664 - val_loss: 0.1222\n",
      "Epoch 5/10\n",
      "\u001b[1m840/840\u001b[0m \u001b[32m━━━━━━━━━━━━━━━━━━━━\u001b[0m\u001b[37m\u001b[0m \u001b[1m2s\u001b[0m 3ms/step - accuracy: 0.9730 - loss: 0.0871 - val_accuracy: 0.9674 - val_loss: 0.1101\n",
      "Epoch 6/10\n",
      "\u001b[1m840/840\u001b[0m \u001b[32m━━━━━━━━━━━━━━━━━━━━\u001b[0m\u001b[37m\u001b[0m \u001b[1m2s\u001b[0m 3ms/step - accuracy: 0.9766 - loss: 0.0712 - val_accuracy: 0.9714 - val_loss: 0.1079\n",
      "Epoch 7/10\n",
      "\u001b[1m840/840\u001b[0m \u001b[32m━━━━━━━━━━━━━━━━━━━━\u001b[0m\u001b[37m\u001b[0m \u001b[1m2s\u001b[0m 3ms/step - accuracy: 0.9796 - loss: 0.0636 - val_accuracy: 0.9682 - val_loss: 0.1169\n",
      "Epoch 8/10\n",
      "\u001b[1m840/840\u001b[0m \u001b[32m━━━━━━━━━━━━━━━━━━━━\u001b[0m\u001b[37m\u001b[0m \u001b[1m2s\u001b[0m 2ms/step - accuracy: 0.9810 - loss: 0.0575 - val_accuracy: 0.9701 - val_loss: 0.1057\n",
      "Epoch 9/10\n",
      "\u001b[1m840/840\u001b[0m \u001b[32m━━━━━━━━━━━━━━━━━━━━\u001b[0m\u001b[37m\u001b[0m \u001b[1m2s\u001b[0m 2ms/step - accuracy: 0.9856 - loss: 0.0438 - val_accuracy: 0.9676 - val_loss: 0.1244\n",
      "Epoch 10/10\n",
      "\u001b[1m840/840\u001b[0m \u001b[32m━━━━━━━━━━━━━━━━━━━━\u001b[0m\u001b[37m\u001b[0m \u001b[1m2s\u001b[0m 3ms/step - accuracy: 0.9851 - loss: 0.0485 - val_accuracy: 0.9728 - val_loss: 0.1035\n"
     ]
    }
   ],
   "source": [
    "history = model.fit(X_train, y_train, epochs=10, validation_data=(X_val, y_val))"
   ]
  },
  {
   "cell_type": "markdown",
   "id": "29066312",
   "metadata": {
    "id": "lQ8Icw0xckqi",
    "papermill": {
     "duration": 0.032308,
     "end_time": "2025-02-24T17:28:27.385261",
     "exception": false,
     "start_time": "2025-02-24T17:28:27.352953",
     "status": "completed"
    },
    "tags": []
   },
   "source": [
    "## Evaluate and Visualize Keras Model Predictions"
   ]
  },
  {
   "cell_type": "code",
   "execution_count": 33,
   "id": "9f5fdeb5",
   "metadata": {
    "execution": {
     "iopub.execute_input": "2025-02-24T17:28:27.451777Z",
     "iopub.status.busy": "2025-02-24T17:28:27.451370Z",
     "iopub.status.idle": "2025-02-24T17:28:27.961333Z",
     "shell.execute_reply": "2025-02-24T17:28:27.959988Z"
    },
    "id": "f5Mn_4tZcWw8",
    "outputId": "d05ed3b1-20da-4cca-b85b-c877e64cf51a",
    "papermill": {
     "duration": 0.545385,
     "end_time": "2025-02-24T17:28:27.963032",
     "exception": false,
     "start_time": "2025-02-24T17:28:27.417647",
     "status": "completed"
    },
    "tags": []
   },
   "outputs": [
    {
     "name": "stdout",
     "output_type": "stream",
     "text": [
      "\u001b[1m263/263\u001b[0m \u001b[32m━━━━━━━━━━━━━━━━━━━━\u001b[0m\u001b[37m\u001b[0m \u001b[1m0s\u001b[0m 1ms/step - accuracy: 0.9734 - loss: 0.1138\n",
      "Test Accuracy: 0.97\n"
     ]
    }
   ],
   "source": [
    "test_loss, test_acc = model.evaluate(X_test, y_test)\n",
    "\n",
    "print(f\"Test Accuracy: {test_acc:.2f}\")"
   ]
  },
  {
   "cell_type": "markdown",
   "id": "c1f921bb",
   "metadata": {
    "id": "Mo69FRYJc45f",
    "papermill": {
     "duration": 0.033013,
     "end_time": "2025-02-24T17:28:28.029526",
     "exception": false,
     "start_time": "2025-02-24T17:28:27.996513",
     "status": "completed"
    },
    "tags": []
   },
   "source": [
    "## Visualize predictions for a few test images"
   ]
  },
  {
   "cell_type": "code",
   "execution_count": 34,
   "id": "d8286850",
   "metadata": {
    "execution": {
     "iopub.execute_input": "2025-02-24T17:28:28.097241Z",
     "iopub.status.busy": "2025-02-24T17:28:28.096894Z",
     "iopub.status.idle": "2025-02-24T17:28:28.100716Z",
     "shell.execute_reply": "2025-02-24T17:28:28.099779Z"
    },
    "id": "Sb2flMD_czQB",
    "papermill": {
     "duration": 0.039423,
     "end_time": "2025-02-24T17:28:28.102168",
     "exception": false,
     "start_time": "2025-02-24T17:28:28.062745",
     "status": "completed"
    },
    "tags": []
   },
   "outputs": [],
   "source": [
    "n_images = 10"
   ]
  },
  {
   "cell_type": "code",
   "execution_count": 35,
   "id": "db0834fe",
   "metadata": {
    "execution": {
     "iopub.execute_input": "2025-02-24T17:28:28.169595Z",
     "iopub.status.busy": "2025-02-24T17:28:28.169226Z",
     "iopub.status.idle": "2025-02-24T17:28:29.615554Z",
     "shell.execute_reply": "2025-02-24T17:28:29.614483Z"
    },
    "id": "wlPDSt3PdAD5",
    "outputId": "08a30295-d13a-40ad-9e9d-9b9f9f223cff",
    "papermill": {
     "duration": 1.481814,
     "end_time": "2025-02-24T17:28:29.617098",
     "exception": false,
     "start_time": "2025-02-24T17:28:28.135284",
     "status": "completed"
    },
    "tags": []
   },
   "outputs": [
    {
     "name": "stdout",
     "output_type": "stream",
     "text": [
      "\u001b[1m1/1\u001b[0m \u001b[32m━━━━━━━━━━━━━━━━━━━━\u001b[0m\u001b[37m\u001b[0m \u001b[1m0s\u001b[0m 53ms/step\n",
      "\u001b[1m1/1\u001b[0m \u001b[32m━━━━━━━━━━━━━━━━━━━━\u001b[0m\u001b[37m\u001b[0m \u001b[1m0s\u001b[0m 19ms/step\n",
      "\u001b[1m1/1\u001b[0m \u001b[32m━━━━━━━━━━━━━━━━━━━━\u001b[0m\u001b[37m\u001b[0m \u001b[1m0s\u001b[0m 19ms/step\n",
      "\u001b[1m1/1\u001b[0m \u001b[32m━━━━━━━━━━━━━━━━━━━━\u001b[0m\u001b[37m\u001b[0m \u001b[1m0s\u001b[0m 18ms/step\n",
      "\u001b[1m1/1\u001b[0m \u001b[32m━━━━━━━━━━━━━━━━━━━━\u001b[0m\u001b[37m\u001b[0m \u001b[1m0s\u001b[0m 19ms/step\n",
      "\u001b[1m1/1\u001b[0m \u001b[32m━━━━━━━━━━━━━━━━━━━━\u001b[0m\u001b[37m\u001b[0m \u001b[1m0s\u001b[0m 18ms/step\n",
      "\u001b[1m1/1\u001b[0m \u001b[32m━━━━━━━━━━━━━━━━━━━━\u001b[0m\u001b[37m\u001b[0m \u001b[1m0s\u001b[0m 19ms/step\n",
      "\u001b[1m1/1\u001b[0m \u001b[32m━━━━━━━━━━━━━━━━━━━━\u001b[0m\u001b[37m\u001b[0m \u001b[1m0s\u001b[0m 19ms/step\n",
      "\u001b[1m1/1\u001b[0m \u001b[32m━━━━━━━━━━━━━━━━━━━━\u001b[0m\u001b[37m\u001b[0m \u001b[1m0s\u001b[0m 19ms/step\n",
      "\u001b[1m1/1\u001b[0m \u001b[32m━━━━━━━━━━━━━━━━━━━━\u001b[0m\u001b[37m\u001b[0m \u001b[1m0s\u001b[0m 19ms/step\n"
     ]
    },
    {
     "data": {
      "image/png": "[encoded data removed]",
      "text/plain": [
       "<Figure size 1200x600 with 10 Axes>"
      ]
     },
     "metadata": {},
     "output_type": "display_data"
    }
   ],
   "source": [
    "plt.figure(figsize= (12,6))\n",
    "\n",
    "for i in range(n_images):\n",
    "  image = X_test[i].reshape(28,28)\n",
    "  label = y_test[i]\n",
    "  model_prediction = model.predict(X_test[i].reshape(1,784)).argmax()\n",
    "\n",
    "  plt.subplot(1, n_images, i+1)\n",
    "  plt.imshow(X_test[i].reshape(28,28), cmap='gray')\n",
    "  plt.axis('off')\n",
    "  plt.title(f\"True: {label}\\nPred: {model_prediction}\")\n",
    "\n",
    "plt.show()"
   ]
  },
  {
   "cell_type": "code",
   "execution_count": null,
   "id": "143eae38-069a-4980-83e6-9ec502e98fe1",
   "metadata": {},
   "outputs": [],
   "source": []
  }
 ],
 "metadata": {
  "colab": {
   "provenance": []
  },
  "kaggle": {
   "accelerator": "none",
   "dataSources": [
    {
     "databundleVersionId": 861823,
     "sourceId": 3004,
     "sourceType": "competition"
    }
   ],
   "dockerImageVersionId": 30918,
   "isGpuEnabled": false,
   "isInternetEnabled": true,
   "language": "python",
   "sourceType": "notebook"
  },
  "kernelspec": {
   "display_name": "Python 3 (ipykernel)",
   "language": "python",
   "name": "python3"
  },
  "language_info": {
   "codemirror_mode": {
    "name": "ipython",
    "version": 3
   },
   "file_extension": ".py",
   "mimetype": "text/x-python",
   "name": "python",
   "nbconvert_exporter": "python",
   "pygments_lexer": "ipython3",
   "version": "3.12.5"
  },
  "papermill": {
   "default_parameters": {},
   "duration": 81.615974,
   "end_time": "2025-02-24T17:28:32.196013",
   "environment_variables": {},
   "exception": null,
   "input_path": "__notebook__.ipynb",
   "output_path": "__notebook__.ipynb",
   "parameters": {},
   "start_time": "2025-02-24T17:27:10.580039",
   "version": "2.6.0"
  }
 },
 "nbformat": 4,
 "nbformat_minor": 5
}
