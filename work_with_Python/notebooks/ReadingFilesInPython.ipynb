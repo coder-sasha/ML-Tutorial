{
 "cells": [
  {
   "cell_type": "raw",
   "metadata": {
    "colab_type": "text",
    "id": "fvNbYpwLT1F7"
   },
   "source": [
    "Let us consider examples of reading files using Python. \n",
    "We will to import two modules: csv and pandas.\n",
    "The file name is data_text.csv\n",
    "Check out the file to see what is inside, so you understand the code results.\n",
    "\n",
    "The first example reads the CSV file as a simple text file.\n",
    "it opens the file in read mode and prints the entire content as a string."
   ]
  },
  {
   "cell_type": "code",
   "execution_count": 10,
   "metadata": {
    "colab": {},
    "colab_type": "code",
    "id": "KYcxppRR5KWp"
   },
   "outputs": [],
   "source": [
    "\n",
    "# Example of the CSV file data.csv:\n",
    "# First name,Middle Name,Last Name,Age,Gender\n",
    "# John,A.,Smith,28,M\n",
    "# Alce,Elizabeth,Johnson,32,F\n",
    "# Robert,,Williams,45,M\n",
    "# Patricia,Ann,Brown,38,F\n",
    "# Michael,Herbert,Jones,27,M\n",
    "\n",
    "# read the file as a simple text file\n",
    "def read_as_text(file_path, msg):\n",
    "    print(f\"=== {msg} ===\")\n",
    "    with open(file_path, \"r\") as file:\n",
    "        content = file.read()\n",
    "   \n",
    "    print(content)\n",
    "    print(\"== done with text ===\\n\")\n"
   ]
  },
  {
   "cell_type": "code",
   "execution_count": 11,
   "metadata": {},
   "outputs": [],
   "source": [
    "# read the file, using the csv module\n",
    "import csv\n",
    "\n",
    "# Opens the file and uses csv.reader to iterate over the rows \n",
    "# Each row is printed as a list of values\n",
    "def read_with_csv_module(file_path, msg):\n",
    "    print(f\"=== {msg} ===\")\n",
    "    \n",
    "    with open(file_path, \"r\", newline=\"\") as file:\n",
    "        csv_reader = csv.reader(file)\n",
    "        for row in csv_reader:\n",
    "            print(row)\n",
    "\n",
    "    print(\"=== done with csv ===\\n\")"
   ]
  },
  {
   "cell_type": "code",
   "execution_count": 12,
   "metadata": {},
   "outputs": [],
   "source": [
    "# read the file, using pandas dataframe\n",
    "import pandas as pd\n",
    "\n",
    "# Reads the CSV file into a DataFrame with pd.read_csv() and then prints the whole DataFrame\n",
    "def read_with_pandas(file_path, msg):\n",
    "    print(f\"=== {msg} ===\")\n",
    "    \n",
    "    df = pd.read_csv(file_path)\n",
    "    print(df)\n",
    "    \n",
    "    print(\"=== done with pandas===\\n\")"
   ]
  },
  {
   "cell_type": "code",
   "execution_count": 13,
   "metadata": {},
   "outputs": [
    {
     "name": "stdout",
     "output_type": "stream",
     "text": [
      "=== Reading as text file ===\n",
      "First name, Middle Name, Last Name, Age, Gender\n",
      "John,Allen,Smith,28,M\n",
      "Mary,Elizabeth,Johnson,32,F\n",
      "Robert,James,Williams,45,M\n",
      "Patricia,Ann,Brown,38,F\n",
      "Michael,Lee,Jones,27,M\n",
      "== done with text ===\n",
      "\n",
      "=== Reading with csv module ===\n",
      "['First name', ' Middle Name', ' Last Name', ' Age', ' Gender']\n",
      "['John', 'Allen', 'Smith', '28', 'M']\n",
      "['Mary', 'Elizabeth', 'Johnson', '32', 'F']\n",
      "['Robert', 'James', 'Williams', '45', 'M']\n",
      "['Patricia', 'Ann', 'Brown', '38', 'F']\n",
      "['Michael', 'Lee', 'Jones', '27', 'M']\n",
      "=== done with csv ===\n",
      "\n",
      "=== Reading with pandas ===\n",
      "  First name  Middle Name  Last Name   Age  Gender\n",
      "0       John        Allen      Smith    28       M\n",
      "1       Mary    Elizabeth    Johnson    32       F\n",
      "2     Robert        James   Williams    45       M\n",
      "3   Patricia          Ann      Brown    38       F\n",
      "4    Michael          Lee      Jones    27       M\n",
      "=== done with pandas===\n",
      "\n",
      "all done...\n"
     ]
    }
   ],
   "source": [
    "if __name__ == \"__main__\":\n",
    "    \n",
    "    file_path = \"data\\\\data_text.csv\"  # Make sure this file exists in the working directory.\n",
    "    \n",
    "    # Call each function to demonstrate the different methods\n",
    "    read_as_text(file_path, \"Reading as text file\")\n",
    "    read_with_csv_module(file_path, \"Reading with csv module\")\n",
    "    read_with_pandas(file_path, \"Reading with pandas\")\n",
    "\n",
    "    print('all done...')"
   ]
  },
  {
   "cell_type": "code",
   "execution_count": null,
   "metadata": {},
   "outputs": [],
   "source": []
  }
 ],
 "metadata": {
  "colab": {
   "collapsed_sections": [],
   "name": "L02qs.ipynb",
   "provenance": []
  },
  "kernelspec": {
   "display_name": "Python 3 (ipykernel)",
   "language": "python",
   "name": "python3"
  },
  "language_info": {
   "codemirror_mode": {
    "name": "ipython",
    "version": 3
   },
   "file_extension": ".py",
   "mimetype": "text/x-python",
   "name": "python",
   "nbconvert_exporter": "python",
   "pygments_lexer": "ipython3",
   "version": "3.12.5"
  }
 },
 "nbformat": 4,
 "nbformat_minor": 4
}
