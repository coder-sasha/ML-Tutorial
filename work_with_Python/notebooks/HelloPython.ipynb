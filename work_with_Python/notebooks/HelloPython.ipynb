{
 "cells": [
  {
   "cell_type": "markdown",
   "metadata": {
    "colab_type": "text",
    "id": "fvNbYpwLT1F7"
   },
   "source": [
    "Let's write a simple function to print \"hello!\" `x` times"
   ]
  },
  {
   "cell_type": "code",
   "execution_count": 1,
   "metadata": {},
   "outputs": [
    {
     "name": "stdout",
     "output_type": "stream",
     "text": [
      "Hello Python!\n"
     ]
    }
   ],
   "source": [
    "print(\"Hello Python!\")"
   ]
  },
  {
   "cell_type": "code",
   "execution_count": 2,
   "metadata": {},
   "outputs": [
    {
     "name": "stdout",
     "output_type": "stream",
     "text": [
      "HELLO PYTHON!\n"
     ]
    }
   ],
   "source": [
    "print(\"Hello Python!\".upper())"
   ]
  },
  {
   "cell_type": "code",
   "execution_count": 3,
   "metadata": {},
   "outputs": [
    {
     "name": "stdout",
     "output_type": "stream",
     "text": [
      "Hello Python! Hello Python! Hello Python! \n"
     ]
    }
   ],
   "source": [
    "print (\"Hello Python! \"*3)"
   ]
  },
  {
   "cell_type": "code",
   "execution_count": 1,
   "metadata": {
    "colab": {},
    "colab_type": "code",
    "executionInfo": {
     "elapsed": 388,
     "status": "ok",
     "timestamp": 1597688906332,
     "user": {
      "displayName": "Michael Littman",
      "photoUrl": "https://lh3.googleusercontent.com/a-/AOh14Gh1OI1zp1NevMSZ87UN47k8bTZ--Ijr4v3ORV33Vg=s64",
      "userId": "06751891446459829367"
     },
     "user_tz": 240
    },
    "id": "KYcxppRR5KWp"
   },
   "outputs": [],
   "source": [
    "def hello_python(x):\n",
    "  for i in range(x):\n",
    "    print(\"Hello Python!\")\n",
    " "
   ]
  },
  {
   "cell_type": "markdown",
   "metadata": {
    "colab_type": "text",
    "id": "Ku_mkV88T8xX"
   },
   "source": [
    "Here we'll print \"hello!\" 4 times"
   ]
  },
  {
   "cell_type": "code",
   "execution_count": 2,
   "metadata": {
    "colab": {
     "base_uri": "https://localhost:8080/",
     "height": 85
    },
    "colab_type": "code",
    "executionInfo": {
     "elapsed": 508,
     "status": "ok",
     "timestamp": 1597688906464,
     "user": {
      "displayName": "Michael Littman",
      "photoUrl": "https://lh3.googleusercontent.com/a-/AOh14Gh1OI1zp1NevMSZ87UN47k8bTZ--Ijr4v3ORV33Vg=s64",
      "userId": "06751891446459829367"
     },
     "user_tz": 240
    },
    "id": "_PSeUt9t5T54",
    "outputId": "c7de09de-511c-4e9f-f16f-da661793fbf5"
   },
   "outputs": [
    {
     "name": "stdout",
     "output_type": "stream",
     "text": [
      "hello!\n",
      "hello!\n",
      "hello!\n",
      "hello!\n"
     ]
    }
   ],
   "source": [
    "hello_python(2)"
   ]
  },
  {
   "cell_type": "markdown",
   "metadata": {
    "colab_type": "text",
    "id": "PguHypYdUEpR"
   },
   "source": [
    "We can also perform simple arithmetic"
   ]
  },
  {
   "cell_type": "code",
   "execution_count": 13,
   "metadata": {
    "colab": {
     "base_uri": "https://localhost:8080/",
     "height": 34
    },
    "colab_type": "code",
    "executionInfo": {
     "elapsed": 501,
     "status": "ok",
     "timestamp": 1597688906701,
     "user": {
      "displayName": "Michael Littman",
      "photoUrl": "https://lh3.googleusercontent.com/a-/AOh14Gh1OI1zp1NevMSZ87UN47k8bTZ--Ijr4v3ORV33Vg=s64",
      "userId": "06751891446459829367"
     },
     "user_tz": 240
    },
    "id": "YXKQwhY6Fmsp",
    "outputId": "08566372-a88c-4f23-a2dc-00eed0af8cc4"
   },
   "outputs": [],
   "source": [
    "def python_art():\n",
    "    with open('data\\\\ascii.txt', 'r') as in_file:\n",
    "        for line in in_file:\n",
    "            print(line.rstrip())\n",
    "       "
   ]
  },
  {
   "cell_type": "code",
   "execution_count": 14,
   "metadata": {
    "colab": {
     "base_uri": "https://localhost:8080/",
     "height": 629
    },
    "colab_type": "code",
    "executionInfo": {
     "elapsed": 1984,
     "status": "ok",
     "timestamp": 1597688909959,
     "user": {
      "displayName": "Michael Littman",
      "photoUrl": "https://lh3.googleusercontent.com/a-/AOh14Gh1OI1zp1NevMSZ87UN47k8bTZ--Ijr4v3ORV33Vg=s64",
      "userId": "06751891446459829367"
     },
     "user_tz": 240
    },
    "id": "O9eaMfzEEJn3",
    "outputId": "a33a63ca-a400-4650-e26e-bddd8f0d7f4a"
   },
   "outputs": [
    {
     "name": "stdout",
     "output_type": "stream",
     "text": [
      "\n",
      "\n",
      "HHHHHHHHH     HHHHHHHHH                   lllllll lllllll                   !!!\n",
      "H:::::::H     H:::::::H                   l:::::l l:::::l                  !!:!!\n",
      "H:::::::H     H:::::::H                   l:::::l l:::::l                  !:::!\n",
      "HH::::::H     H::::::HH                   l:::::l l:::::l                  !:::!\n",
      "  H:::::H     H:::::H      eeeeeeeeeeee    l::::l  l::::l    ooooooooooo   !:::!\n",
      "  H:::::H     H:::::H    ee::::::::::::ee  l::::l  l::::l  oo:::::::::::oo !:::!\n",
      "  H::::::HHHHH::::::H   e::::::eeeee:::::eel::::l  l::::l o:::::::::::::::o!:::!\n",
      "  H:::::::::::::::::H  e::::::e     e:::::el::::l  l::::l o:::::ooooo:::::o!:::!\n",
      "  H:::::::::::::::::H  e:::::::eeeee::::::el::::l  l::::l o::::o     o::::o!:::!\n",
      "  H::::::HHHHH::::::H  e:::::::::::::::::e l::::l  l::::l o::::o     o::::o!:::!\n",
      "  H:::::H     H:::::H  e::::::eeeeeeeeeee  l::::l  l::::l o::::o     o::::o!!:!!\n",
      "  H:::::H     H:::::H  e:::::::e           l::::l  l::::l o::::o     o::::o !!!\n",
      "HH::::::H     H::::::HHe::::::::e         l::::::ll::::::lo:::::ooooo:::::o\n",
      "H:::::::H     H:::::::H e::::::::eeeeeeee l::::::ll::::::lo:::::::::::::::o !!!\n",
      "H:::::::H     H:::::::H  ee:::::::::::::e l::::::ll::::::l oo:::::::::::oo !!:!!\n",
      "HHHHHHHHH     HHHHHHHHH    eeeeeeeeeeeeee llllllllllllllll   ooooooooooo    !!!\n",
      "\n",
      "\n",
      "\n",
      "\n",
      "\n",
      "\n",
      "\n"
     ]
    }
   ],
   "source": [
    "python_art()"
   ]
  },
  {
   "cell_type": "code",
   "execution_count": 19,
   "metadata": {},
   "outputs": [],
   "source": [
    "def python_print_art(path_to_file: str)->None:\n",
    "    lines = []\n",
    "    with open(path_to_file, 'r') as in_file:\n",
    "        lines = in_file.readlines()\n",
    "    \n",
    "    for line in lines:\n",
    "        print(line.rstrip())\n"
   ]
  },
  {
   "cell_type": "code",
   "execution_count": 21,
   "metadata": {
    "colab": {
     "base_uri": "https://localhost:8080/",
     "height": 34
    },
    "colab_type": "code",
    "executionInfo": {
     "elapsed": 309,
     "status": "ok",
     "timestamp": 1597688911079,
     "user": {
      "displayName": "Michael Littman",
      "photoUrl": "https://lh3.googleusercontent.com/a-/AOh14Gh1OI1zp1NevMSZ87UN47k8bTZ--Ijr4v3ORV33Vg=s64",
      "userId": "06751891446459829367"
     },
     "user_tz": 240
    },
    "id": "fLvnv4lNEKgg",
    "outputId": "b37ffc0d-e21f-40d4-ce68-2e8e840dc1b8"
   },
   "outputs": [
    {
     "name": "stdout",
     "output_type": "stream",
     "text": [
      " _   _      _ _         ____        _   _                 _\n",
      "| | | | ___| | | ___   |  _ \\ _   _| |_| |__   ___  _ __ | |\n",
      "| |_| |/ _ \\ | |/ _ \\  | |_) | | | | __| '_ \\ / _ \\| '_ \\| |\n",
      "|  _  |  __/ | | (_) | |  __/| |_| | |_| | | | (_) | | | |_|\n",
      "|_| |_|\\___|_|_|\\___/  |_|    \\__, |\\__|_| |_|\\___/|_| |_(_)\n",
      "                              |___/\n"
     ]
    }
   ],
   "source": [
    "python_print_art('data\\\\hello_python.txt')"
   ]
  },
  {
   "cell_type": "code",
   "execution_count": 25,
   "metadata": {},
   "outputs": [
    {
     "name": "stdout",
     "output_type": "stream",
     "text": [
      " _   _      _ _         ____        _   _                 _ \n",
      "| | | | ___| | | ___   |  _ \\ _   _| |_| |__   ___  _ __ | |\n",
      "| |_| |/ _ \\ | |/ _ \\  | |_) | | | | __| '_ \\ / _ \\| '_ \\| |\n",
      "|  _  |  __/ | | (_) | |  __/| |_| | |_| | | | (_) | | | |_|\n",
      "|_| |_|\\___|_|_|\\___/  |_|    \\__, |\\__|_| |_|\\___/|_| |_(_)\n",
      "                              |___/                         \n",
      " _   _      _ _         __  __ _     _ \n",
      "| | | | ___| | | ___   |  \\/  | |   | |\n",
      "| |_| |/ _ \\ | |/ _ \\  | |\\/| | |   | |\n",
      "|  _  |  __/ | | (_) | | |  | | |___|_|\n",
      "|_| |_|\\___|_|_|\\___/  |_|  |_|_____(_)\n",
      "                                       \n",
      "\n"
     ]
    }
   ],
   "source": [
    "import pyfiglet\n",
    "\n",
    "art = pyfiglet.figlet_format(\"Hello Python! Hello ML!\")\n",
    "if len(art) > 0:\n",
    "    print(art)\n",
    "else:\n",
    "    print(\"string art is empty!\")"
   ]
  },
  {
   "cell_type": "code",
   "execution_count": 27,
   "metadata": {},
   "outputs": [
    {
     "name": "stdout",
     "output_type": "stream",
     "text": [
      " _   _      _ _       _ \n",
      "| | | | ___| | | ___ | |\n",
      "| |_| |/ _ \\ | |/ _ \\| |\n",
      "|  _  |  __/ | | (_) |_|\n",
      "|_| |_|\\___|_|_|\\___/(_)\n",
      "                        \n",
      "\n",
      " _   _      _ _         ____        _   _                 _ \n",
      "| | | | ___| | | ___   |  _ \\ _   _| |_| |__   ___  _ __ | |\n",
      "| |_| |/ _ \\ | |/ _ \\  | |_) | | | | __| '_ \\ / _ \\| '_ \\| |\n",
      "|  _  |  __/ | | (_) | |  __/| |_| | |_| | | | (_) | | | |_|\n",
      "|_| |_|\\___|_|_|\\___/  |_|    \\__, |\\__|_| |_|\\___/|_| |_(_)\n",
      "                              |___/                         \n",
      "\n",
      " _   _      _ _         __  __            _     _            \n",
      "| | | | ___| | | ___   |  \\/  | __ _  ___| |__ (_)_ __   ___ \n",
      "| |_| |/ _ \\ | |/ _ \\  | |\\/| |/ _` |/ __| '_ \\| | '_ \\ / _ \\\n",
      "|  _  |  __/ | | (_) | | |  | | (_| | (__| | | | | | | |  __/\n",
      "|_| |_|\\___|_|_|\\___/  |_|  |_|\\__,_|\\___|_| |_|_|_| |_|\\___|\n",
      "                                                             \n",
      " _                          _             _ \n",
      "| |    ___  __ _ _ __ _ __ (_)_ __   __ _| |\n",
      "| |   / _ \\/ _` | '__| '_ \\| | '_ \\ / _` | |\n",
      "| |__|  __/ (_| | |  | | | | | | | | (_| |_|\n",
      "|_____\\___|\\__,_|_|  |_| |_|_|_| |_|\\__, (_)\n",
      "                                    |___/   \n",
      "\n"
     ]
    }
   ],
   "source": [
    "art_messages = ['Hello!', 'Hello Python!', 'Hello Machine Learning!']\n",
    "\n",
    "for msg in art_messages:\n",
    "    print(pyfiglet.figlet_format(msg))"
   ]
  },
  {
   "cell_type": "code",
   "execution_count": null,
   "metadata": {},
   "outputs": [],
   "source": []
  }
 ],
 "metadata": {
  "colab": {
   "collapsed_sections": [],
   "name": "L02.ipynb",
   "provenance": []
  },
  "kernelspec": {
   "display_name": "Python 3 (ipykernel)",
   "language": "python",
   "name": "python3"
  },
  "language_info": {
   "codemirror_mode": {
    "name": "ipython",
    "version": 3
   },
   "file_extension": ".py",
   "mimetype": "text/x-python",
   "name": "python",
   "nbconvert_exporter": "python",
   "pygments_lexer": "ipython3",
   "version": "3.12.5"
  }
 },
 "nbformat": 4,
 "nbformat_minor": 4
}
