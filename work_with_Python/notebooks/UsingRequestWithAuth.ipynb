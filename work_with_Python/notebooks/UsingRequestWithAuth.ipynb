{
 "cells": [
  {
   "cell_type": "markdown",
   "id": "57241a45-b72c-4bd9-b73f-d8ae9de842e5",
   "metadata": {},
   "source": [
    "Handling Authentication and Headers\n",
    "When downloading from APIs we might need to handle authentication\n"
   ]
  },
  {
   "cell_type": "code",
   "execution_count": 3,
   "id": "d3eb8dd7-3ff2-4243-a293-148037c6bcdf",
   "metadata": {},
   "outputs": [],
   "source": [
    "import requests\n",
    "\n",
    "def download_with_auth(url, filename, headers=None, auth=None):\n",
    "    try:\n",
    "        # set default headers if none provided\n",
    "        if headers is None:\n",
    "            headers = {\n",
    "                'User-Agent': 'Mozilla/5.0 (Windows NT 10.0; Win64; x64) AppleWebKit/537.36'\n",
    "            }\n",
    "        \n",
    "        # make request with authentication and headers\n",
    "        response = requests.get(url,\n",
    "                              headers=headers,\n",
    "                              auth=auth,\n",
    "                              stream=True)\n",
    "        \n",
    "        response.raise_for_status()\n",
    "        \n",
    "        # Download with progress tracking\n",
    "        total_size = int(response.headers.get('content-length', 0))\n",
    "        print(f\"the download size if {total_size}\")\n",
    "        \n",
    "        with open(filename, 'wb') as file:\n",
    "            for chunk in response.iter_content(chunk_size=8192):\n",
    "                size = file.write(chunk)\n",
    "        \n",
    "        return True\n",
    "    \n",
    "    except requests.exceptions.RequestException as e:\n",
    "        print(f\"Download failed with error: {e}\")\n",
    "        return False\n",
    "    "
   ]
  },
  {
   "cell_type": "code",
   "execution_count": 4,
   "id": "9e78546b-8a24-4966-9eff-4e9239dc7456",
   "metadata": {},
   "outputs": [
    {
     "name": "stdout",
     "output_type": "stream",
     "text": [
      "Download failed with error: HTTPSConnectionPool(host='api.example.com', port=443): Max retries exceeded with url: /files/document.pdf (Caused by NameResolutionError(\"<urllib3.connection.HTTPSConnection object at 0x00000284A005CE00>: Failed to resolve 'api.example.com' ([Errno 11001] getaddrinfo failed)\"))\n"
     ]
    }
   ],
   "source": [
    "# usage with basic auth\n",
    "url = \"https://api.example.com/files/document.pdf\"\n",
    "headers = {\n",
    "    'Authorization': 'Bearer your-access-token',\n",
    "    'Accept': 'application/pdf'\n",
    "}\n",
    "\n",
    "auth = ('username', 'password')  # Basic authentication\n",
    "\n",
    "success = download_with_auth(url, \"document.pdf\", headers=headers, auth=auth)\n",
    "if success:\n",
    "    print('done...')"
   ]
  },
  {
   "cell_type": "code",
   "execution_count": null,
   "id": "e731b072-c75d-4673-9558-99f94f7e3741",
   "metadata": {},
   "outputs": [],
   "source": []
  }
 ],
 "metadata": {
  "kernelspec": {
   "display_name": "Python 3 (ipykernel)",
   "language": "python",
   "name": "python3"
  },
  "language_info": {
   "codemirror_mode": {
    "name": "ipython",
    "version": 3
   },
   "file_extension": ".py",
   "mimetype": "text/x-python",
   "name": "python",
   "nbconvert_exporter": "python",
   "pygments_lexer": "ipython3",
   "version": "3.12.5"
  }
 },
 "nbformat": 4,
 "nbformat_minor": 5
}
