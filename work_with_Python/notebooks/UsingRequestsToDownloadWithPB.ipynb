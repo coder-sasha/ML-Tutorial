{
 "cells": [
  {
   "cell_type": "markdown",
   "id": "4676536c-b81c-42f2-a5c1-ba37f48eff8e",
   "metadata": {},
   "source": [
    "Requests Module Usage Examples \n",
    "We will use urls of \"World Bank Open Data\" (https://data.worldbank.org/)\n",
    "This site offers free and open access to global development data.\n",
    "\n",
    "Important Moments:\n",
    "1. Always use `raise_for_status()` to catch HTTP errors\n",
    "2. Stream large files using `stream=True` and `iter_content()`\n",
    "3. Add proper error handling for network issues\n",
    "4. Use progress bars for better user experience\n",
    "5. Validate downloaded files when content integrity is important\n",
    "6. Consider rate limiting when downloading multiple files\n",
    "7. Handle timeouts for slow connections"
   ]
  },
  {
   "cell_type": "code",
   "execution_count": 1,
   "id": "b2ce4eca-d10e-4bae-8b1d-88f6773a970f",
   "metadata": {},
   "outputs": [],
   "source": [
    "import requests\n",
    "\n",
    "def download_file(url, filename):\n",
    "    # we need a proper error handling for network issues\n",
    "    try:\n",
    "        # send GET request for stream downloading\n",
    "        response = requests.get(url, stream=True)\n",
    "        response.raise_for_status()\n",
    "        \n",
    "        # get the file size from headers\n",
    "        total_size = int(response.headers.get('content-length', 0))\n",
    "        print(f\"the download size if {total_size}\")\n",
    "        \n",
    "        # open file and load it in chunks\n",
    "        with open(filename, 'wb') as file:\n",
    "            for data in response.iter_content(chunk_size=8192):\n",
    "                size = file.write(data)\n",
    "                \n",
    "        return True\n",
    "    except requests.exceptions.RequestException as e:\n",
    "        print(f\"Download failed with error: {e}\")\n",
    "        return False\n",
    "\n",
    "url = 'https://example.com/large-file.zip'\n",
    "\n",
    "# example of usage\n",
    "download_file (url, 'large-file.zip')\n",
    "\n",
    "print('download is done...')"
   ]
  },
  {
   "cell_type": "markdown",
   "id": "5ec35b81-20fb-44a5-a40d-8c65bcba7822",
   "metadata": {},
   "source": [
    "Let's make nicer download by adding a progress bar"
   ]
  },
  {
   "cell_type": "code",
   "execution_count": 2,
   "id": "c062f2ad-35e7-4b76-8dce-795e06ecca7e",
   "metadata": {},
   "outputs": [],
   "source": [
    "from tqdm import tqdm\n",
    "\n",
    "def download_with_progress_bar(url, filename):\n",
    "    try:\n",
    "        # send GET request\n",
    "        response = requests.get(url, stream=True)\n",
    "        response.raise_for_status()\n",
    "        \n",
    "        # get the file size from headers\n",
    "        total_size = int(response.headers.get('content-length', 0))\n",
    "        print(f\"the download size if {total_size}\")\n",
    "        \n",
    "        # open file and create progress bar\n",
    "        with open(filename, 'wb') as file, \\\n",
    "            tqdm(desc=filename,\n",
    "            total=total_size,\n",
    "            unit='iB',\n",
    "            unit_scale=True) as progress_bar:\n",
    "                \n",
    "            for data in response.iter_content(chunk_size=8192):\n",
    "                size = file.write(data)\n",
    "                progress_bar.update(size)\n",
    "                \n",
    "        return True\n",
    "    except requests.exceptions.RequestException as e:\n",
    "        print(f\"Download failed with error: {e}\")\n",
    "        return False\n"
   ]
  },
  {
   "cell_type": "code",
   "execution_count": 3,
   "id": "6c93dd94-defa-493c-9d25-dca3769f9139",
   "metadata": {},
   "outputs": [
    {
     "name": "stdout",
     "output_type": "stream",
     "text": [
      "Download failed with error: 404 Client Error: Not Found for url: https://example.com/large-file.zip\n",
      "done...\n"
     ]
    }
   ],
   "source": [
    "\n",
    "# example of usage\n",
    "download_with_progress(url, 'large-file.zip')\n",
    "\n",
    "print('download is done...')"
   ]
  },
  {
   "cell_type": "code",
   "execution_count": null,
   "id": "edcfa5d8-6524-4ab2-a0ab-22448c54f01c",
   "metadata": {},
   "outputs": [],
   "source": []
  }
 ],
 "metadata": {
  "kernelspec": {
   "display_name": "Python 3 (ipykernel)",
   "language": "python",
   "name": "python3"
  },
  "language_info": {
   "codemirror_mode": {
    "name": "ipython",
    "version": 3
   },
   "file_extension": ".py",
   "mimetype": "text/x-python",
   "name": "python",
   "nbconvert_exporter": "python",
   "pygments_lexer": "ipython3",
   "version": "3.12.5"
  }
 },
 "nbformat": 4,
 "nbformat_minor": 5
}
