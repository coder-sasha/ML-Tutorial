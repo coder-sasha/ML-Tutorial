{
 "cells": [
  {
   "cell_type": "markdown",
   "id": "d090c538-bfcd-4352-8169-009432c170fd",
   "metadata": {},
   "source": [
    "Pandas is a powerful Python package that is specifically designed to work with \"relational\" data. \n",
    "This package works well for data manipulation, data analysis, and even machine learning-related tasks. \n",
    "We usually use it importing it like \"import pandas as pd\". \n",
    "\n",
    "Pandas simplifies many task related to realtaional data such as:\n",
    "Import datasets - available in the form of spreadsheets, comma-separated values (CSV) files, and more.\n",
    "Data validation and cleansing - dealing with missing values and replacing them as NaN or NA.\n",
    "Data normalization – normalize the data into a suitable format for analysis.\n",
    "Intuitive merging and joining data sets – datasets can be merged and join.\n",
    "Pivoting of datasets – datasets can be reshaped and pivoted as we need.\n",
    "Statistical analysis - statistical operations on datasets are available.\n",
    "\n",
    "Generally, Pandas operates as aobjects: data Series and/or  DataFrame. \n",
    "Series works on a one-dimensional labeled array holding data of any type like integers, strings, and objects.\n",
    "A DataFrame is a two-dimensional data structure that contains and operates data in a tabular form, using named rows and columns.\n",
    "\n",
    "DataFrame\n",
    "A DataFrame is similar to a table in a database or a spreadsheet. \n",
    "Consider a table, represented a sales team:\n",
    "\n",
    "Name\tAge\tGender\tRating\n",
    "Steve\t32\tMale\t3.45\n",
    "Lia\t28\tFemale\t4.6\n",
    "Vin\t45\tMale\t3.9\n",
    "Katie\t38\tFemale\t2.78\n"
   ]
  },
  {
   "cell_type": "code",
   "execution_count": 1,
   "id": "1feaed0c-51d6-4fb6-9634-e1e1c2520d9e",
   "metadata": {},
   "outputs": [
    {
     "name": "stdout",
     "output_type": "stream",
     "text": [
      "     Name  Age  Gender  Rating\n",
      "0   Steve   42    Male    3.45\n",
      "1     Lia   38  Female    4.60\n",
      "2     Vic   35    Male    3.90\n",
      "3  Katlyn   38  Female    2.78\n"
     ]
    }
   ],
   "source": [
    "# create a pandas dataframe and populate with our table's data  \n",
    "import pandas as pd\n",
    "\n",
    "# table as a dictionary\n",
    "data = {\n",
    "    'Name': ['Steve', 'Lia', 'Vic', 'Katlyn'],\n",
    "    'Age': [42, 38, 35, 38],\n",
    "    'Gender': ['Male', 'Female', 'Male', 'Female'],\n",
    "    'Rating': [3.45, 4.6, 3.9, 2.78]\n",
    "}\n",
    "\n",
    "# create the DataFrame\n",
    "df = pd.DataFrame(data)\n",
    "\n",
    "# display the DataFrame\n",
    "print(df)"
   ]
  },
  {
   "cell_type": "code",
   "execution_count": 2,
   "id": "284ec7a3-2d81-402d-8319-30bfc46f4d77",
   "metadata": {},
   "outputs": [
    {
     "name": "stdout",
     "output_type": "stream",
     "text": [
      "0     Steve\n",
      "1       Lia\n",
      "2       Vic\n",
      "3    Katlyn\n",
      "Name: Name, dtype: object\n"
     ]
    }
   ],
   "source": [
    "# display a selected data within a DataFrame\n",
    "print(df['Name'])"
   ]
  },
  {
   "cell_type": "markdown",
   "id": "e8af44a4-1ac1-42b9-87e0-88833ae3b38e",
   "metadata": {},
   "source": [
    "Panadas DataFrame has the following attributes:\n",
    "1)\tdtype: returns the data type of the elements in the Series or DataFrame\n",
    "2)\tindex: provides the index (row labels) of the Series or DataFrame\n",
    "3)\tvalues: returns the data in the Series or DataFrame as a NumPy array\n",
    "4)\tshape: returns a tuple representing the dimensionality of the DataFrame (rows, columns)\n",
    "5)\tndim: returns the number of dimensions of the object. Series is always 1D, and DataFrame is 2D\n",
    "6)\tsize: gives the total number of elements in the object\n",
    "7)\tempty: checks if the object is empty, and returns True if it is\n",
    "8)\tcolumns: provides the column labels of the DataFrame object\n",
    "  "
   ]
  },
  {
   "cell_type": "code",
   "execution_count": 6,
   "id": "17ddbfcc-8ca6-4219-9b35-c370806f24dc",
   "metadata": {},
   "outputs": [
    {
     "name": "stdout",
     "output_type": "stream",
     "text": [
      "DataFrame:\n",
      "           A         B         C         D\n",
      "0 -0.178706 -0.960766  0.436961  0.536331\n",
      "1 -0.951409  0.401667 -0.554034  0.986464\n",
      "2  0.432042 -1.842698  0.516388 -0.350617\n",
      "3  0.287110  1.805995  0.332869 -0.409164\n",
      "4  0.275934 -0.797893 -0.822139 -1.489373\n",
      "5  2.141145 -0.367153  1.262124  0.691418\n",
      "6  0.953803  0.767487 -0.212739 -0.146108\n",
      "7  0.119920 -0.138867  0.869964 -0.092097\n"
     ]
    }
   ],
   "source": [
    "# working of a DataFrame attributes\n",
    "\n",
    "import numpy as np\n",
    "\n",
    "# create a DataFrame, populated with random numbers\n",
    "df_numbers = pd.DataFrame(np.random.randn(8, 4), columns=list('ABCD'))\n",
    "\n",
    "# display DataFrame \n",
    "print(\"DataFrame:\\n\", df_numbers)"
   ]
  },
  {
   "cell_type": "code",
   "execution_count": 4,
   "id": "290f17c0-7b43-44cf-88ea-39a4f7933585",
   "metadata": {},
   "outputs": [
    {
     "name": "stdout",
     "output_type": "stream",
     "text": [
      "DataFrame Attributes:\n",
      "Data types: Name       object\n",
      "Age         int64\n",
      "Gender     object\n",
      "Rating    float64\n",
      "dtype: object\n",
      "Index: RangeIndex(start=0, stop=4, step=1)\n",
      "Columns: Index(['Name', 'Age', 'Gender', 'Rating'], dtype='object')\n",
      "Values:\n",
      "[['Steve' 42 'Male' 3.45]\n",
      " ['Lia' 38 'Female' 4.6]\n",
      " ['Vic' 35 'Male' 3.9]\n",
      " ['Katlyn' 38 'Female' 2.78]]\n",
      "Shape: (4, 4)\n",
      "Number of dimensions: 2\n",
      "Size: 16\n",
      "Is empty: False\n"
     ]
    }
   ],
   "source": [
    "# attributes output\n",
    "print(\"DataFrame Attributes:\")\n",
    "print(\"Data types:\", df.dtypes)\n",
    "print(\"Index:\", df.index)\n",
    "print(\"Columns:\", df.columns)\n",
    "print(\"Values:\")\n",
    "print(df.values)\n",
    "print(\"Shape:\", df.shape)\n",
    "print(\"Number of dimensions:\", df.ndim)\n",
    "print(\"Size:\", df.size)\n",
    "print(\"Is empty:\", df.empty)"
   ]
  },
  {
   "cell_type": "markdown",
   "id": "3426affa-8b63-445d-a954-b29b843d1817",
   "metadata": {},
   "source": [
    "Pandas offers several basic methods that makes it easy to quickly look at and understand the data inside: \n",
    "1) head(n) - Returns the first n rows of the object. The default value of n is 5.\n",
    "2) tail(n) - Returns the last n rows of the object. The default value of n is 5.\n",
    "3) info() - Provides a concise summary of a DataFrame, including the index dtype and column dtypes, non-null values, and memory usage.\n",
    "4) describe() - Generates descriptive statistics of the DataFrame or Series, such as count, mean, std, min, and max.\n",
    "\n",
    "Let's create a DataFrame and see the working of these methods.\n"
   ]
  },
  {
   "cell_type": "code",
   "execution_count": 7,
   "id": "4fe866ca-95bd-4179-ac82-61f0627dda4c",
   "metadata": {},
   "outputs": [
    {
     "name": "stdout",
     "output_type": "stream",
     "text": [
      "Team Data:\n",
      "      Name  Age  Gender  Rating\n",
      "0   Steve   42    Male    3.45\n",
      "1     Lia   38  Female    4.60\n",
      "2     Vic   35    Male    3.90\n",
      "3  Katlyn   38  Female    2.78\n",
      "\n",
      "Info of the DataFrame:\n",
      "<class 'pandas.core.frame.DataFrame'>\n",
      "RangeIndex: 4 entries, 0 to 3\n",
      "Data columns (total 4 columns):\n",
      " #   Column  Non-Null Count  Dtype  \n",
      "---  ------  --------------  -----  \n",
      " 0   Name    4 non-null      object \n",
      " 1   Age     4 non-null      int64  \n",
      " 2   Gender  4 non-null      object \n",
      " 3   Rating  4 non-null      float64\n",
      "dtypes: float64(1), int64(1), object(2)\n",
      "memory usage: 260.0+ bytes\n",
      "\n",
      "First 5 rows of the DataFrame:\n",
      "      Name  Age  Gender  Rating\n",
      "0   Steve   42    Male    3.45\n",
      "1     Lia   38  Female    4.60\n",
      "2     Vic   35    Male    3.90\n",
      "3  Katlyn   38  Female    2.78\n",
      "\n",
      "Last 3 rows of the DataFrame:\n",
      "      Name  Age  Gender  Rating\n",
      "1     Lia   38  Female    4.60\n",
      "2     Vic   35    Male    3.90\n",
      "3  Katlyn   38  Female    2.78\n",
      "\n",
      "Descriptive statistics of the DataFrame:\n",
      "              Age    Rating\n",
      "count   4.000000  4.000000\n",
      "mean   38.250000  3.682500\n",
      "std     2.872281  0.765436\n",
      "min    35.000000  2.780000\n",
      "25%    37.250000  3.282500\n",
      "50%    38.000000  3.675000\n",
      "75%    39.000000  4.075000\n",
      "max    42.000000  4.600000\n",
      "Numbers:\n",
      "           A         B         C         D\n",
      "0 -0.178706 -0.960766  0.436961  0.536331\n",
      "1 -0.951409  0.401667 -0.554034  0.986464\n",
      "2  0.432042 -1.842698  0.516388 -0.350617\n",
      "3  0.287110  1.805995  0.332869 -0.409164\n",
      "4  0.275934 -0.797893 -0.822139 -1.489373\n",
      "5  2.141145 -0.367153  1.262124  0.691418\n",
      "6  0.953803  0.767487 -0.212739 -0.146108\n",
      "7  0.119920 -0.138867  0.869964 -0.092097\n",
      "\n",
      "Info of the DataFrame:\n",
      "<class 'pandas.core.frame.DataFrame'>\n",
      "RangeIndex: 8 entries, 0 to 7\n",
      "Data columns (total 4 columns):\n",
      " #   Column  Non-Null Count  Dtype  \n",
      "---  ------  --------------  -----  \n",
      " 0   A       8 non-null      float64\n",
      " 1   B       8 non-null      float64\n",
      " 2   C       8 non-null      float64\n",
      " 3   D       8 non-null      float64\n",
      "dtypes: float64(4)\n",
      "memory usage: 388.0 bytes\n",
      "\n",
      "First 5 rows of the DataFrame:\n",
      "           A         B         C         D\n",
      "0 -0.178706 -0.960766  0.436961  0.536331\n",
      "1 -0.951409  0.401667 -0.554034  0.986464\n",
      "2  0.432042 -1.842698  0.516388 -0.350617\n",
      "3  0.287110  1.805995  0.332869 -0.409164\n",
      "4  0.275934 -0.797893 -0.822139 -1.489373\n",
      "\n",
      "Last 3 rows of the DataFrame:\n",
      "           A         B         C         D\n",
      "5  2.141145 -0.367153  1.262124  0.691418\n",
      "6  0.953803  0.767487 -0.212739 -0.146108\n",
      "7  0.119920 -0.138867  0.869964 -0.092097\n",
      "\n",
      "Descriptive statistics of the DataFrame:\n",
      "               A         B         C         D\n",
      "count  8.000000  8.000000  8.000000  8.000000\n",
      "mean   0.384980 -0.141529  0.228674 -0.034143\n",
      "std    0.894850  1.131439  0.709927  0.780833\n",
      "min   -0.951409 -1.842698 -0.822139 -1.489373\n",
      "25%    0.045264 -0.838612 -0.298062 -0.365254\n",
      "50%    0.281522 -0.253010  0.384915 -0.119103\n",
      "75%    0.562482  0.493122  0.604782  0.575103\n",
      "max    2.141145  1.805995  1.262124  0.986464\n"
     ]
    }
   ],
   "source": [
    "# print the team DataFrame\n",
    "print(\"Team Data:\\n\", df)\n",
    "\n",
    "# basic methods\n",
    "print(\"\\nInfo of the DataFrame:\")\n",
    "df.info()\n",
    "print(\"\\nFirst 5 rows of the DataFrame:\\n\", df.head())\n",
    "print(\"\\nLast 3 rows of the DataFrame:\\n\", df.tail(3))\n",
    "print(\"\\nDescriptive Statistics of the DataFrame:\\n\", df.describe())\n",
    "\n",
    "# print numbers DataFrame\n",
    "print(\"\\nNumbers:\\n\", df_numbers)\n",
    "\n",
    "# basic methods\n",
    "print(\"\\nInfo of the DataFrame:\")\n",
    "df_numbers.info()\n",
    "print(\"\\nFirst 5 rows of the DataFrame:\\n\", df_numbers.head())\n",
    "print(\"\\nLast 3 rows of the DataFrame:\\n\", df_numbers.tail(3))\n",
    "print(\"\\nDescriptive Statistics of the DataFrame:\\n\", df_numbers.describe())\n"
   ]
  },
  {
   "cell_type": "code",
   "execution_count": 9,
   "id": "636e5792-77f9-4f05-af08-9281ea802d85",
   "metadata": {},
   "outputs": [
    {
     "name": "stdout",
     "output_type": "stream",
     "text": [
      "Unsorted DataFrame:\n",
      "    col1  col2\n",
      "0     2     1\n",
      "1     9     3\n",
      "2     5     2\n",
      "3     0     4\n",
      "4    11     5\n",
      "5    42     6\n",
      "6   -42     7\n",
      "7    13     8\n",
      "8    21     9\n",
      "\n",
      "Sorted DataFrame:\n",
      "    col1  col2\n",
      "6   -42     7\n",
      "3     0     4\n",
      "0     2     1\n",
      "2     5     2\n",
      "1     9     3\n",
      "4    11     5\n",
      "7    13     8\n",
      "8    21     9\n",
      "5    42     6\n"
     ]
    }
   ],
   "source": [
    "# sort a DatFrame, using columns\n",
    "# create insorted DataFrame\n",
    "unsorted_df = pd.DataFrame({'col1':[2,4,8,0,16,42,-42,13,21],'col2':[1,6,2,4,5,3,9,8,7]})\n",
    "print(\"Unsorted DataFrame:\\n\", unsorted_df)\n",
    "\n",
    "# sort the DataFrame by values from col1\n",
    "sorted_df = unsorted_df.sort_values(by='col1')\n",
    "print(\"\\nSorted DataFrame:\\n\", sorted_df)\n"
   ]
  },
  {
   "cell_type": "code",
   "execution_count": null,
   "id": "6cd3214f-ada4-4533-9912-b0d510eee5e3",
   "metadata": {},
   "outputs": [],
   "source": []
  }
 ],
 "metadata": {
  "kernelspec": {
   "display_name": "Python 3 (ipykernel)",
   "language": "python",
   "name": "python3"
  },
  "language_info": {
   "codemirror_mode": {
    "name": "ipython",
    "version": 3
   },
   "file_extension": ".py",
   "mimetype": "text/x-python",
   "name": "python",
   "nbconvert_exporter": "python",
   "pygments_lexer": "ipython3",
   "version": "3.12.5"
  }
 },
 "nbformat": 4,
 "nbformat_minor": 5
}
