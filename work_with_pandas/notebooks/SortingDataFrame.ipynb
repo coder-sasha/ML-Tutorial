{
 "cells": [
  {
   "cell_type": "markdown",
   "metadata": {
    "deletable": true,
    "editable": true,
    "slideshow": {
     "slide_type": "slide"
    }
   },
   "source": [
    "## Import Pandas"
   ]
  },
  {
   "cell_type": "code",
   "execution_count": 1,
   "metadata": {
    "deletable": true,
    "editable": true,
    "slideshow": {
     "slide_type": "fragment"
    }
   },
   "outputs": [],
   "source": [
    "import pandas as pd"
   ]
  },
  {
   "cell_type": "markdown",
   "metadata": {
    "deletable": true,
    "editable": true,
    "slideshow": {
     "slide_type": "slide"
    }
   },
   "source": [
    "## Read the Data"
   ]
  },
  {
   "cell_type": "code",
   "execution_count": 2,
   "metadata": {
    "collapsed": false,
    "deletable": true,
    "editable": true,
    "jupyter": {
     "outputs_hidden": false
    },
    "slideshow": {
     "slide_type": "fragment"
    }
   },
   "outputs": [
    {
     "data": {
      "text/html": [
       "<div>\n",
       "<style scoped>\n",
       "    .dataframe tbody tr th:only-of-type {\n",
       "        vertical-align: middle;\n",
       "    }\n",
       "\n",
       "    .dataframe tbody tr th {\n",
       "        vertical-align: top;\n",
       "    }\n",
       "\n",
       "    .dataframe thead th {\n",
       "        text-align: right;\n",
       "    }\n",
       "</style>\n",
       "<table border=\"1\" class=\"dataframe\">\n",
       "  <thead>\n",
       "    <tr style=\"text-align: right;\">\n",
       "      <th></th>\n",
       "      <th>Date</th>\n",
       "      <th>RegionID</th>\n",
       "      <th>RegionName</th>\n",
       "      <th>State</th>\n",
       "      <th>Metro</th>\n",
       "      <th>County</th>\n",
       "      <th>SizeRank</th>\n",
       "      <th>Zhvi</th>\n",
       "    </tr>\n",
       "  </thead>\n",
       "  <tbody>\n",
       "    <tr>\n",
       "      <th>0</th>\n",
       "      <td>2017-05-31</td>\n",
       "      <td>6181</td>\n",
       "      <td>New York</td>\n",
       "      <td>NY</td>\n",
       "      <td>New York</td>\n",
       "      <td>Queens</td>\n",
       "      <td>0</td>\n",
       "      <td>672400</td>\n",
       "    </tr>\n",
       "    <tr>\n",
       "      <th>1</th>\n",
       "      <td>2017-05-31</td>\n",
       "      <td>12447</td>\n",
       "      <td>Los Angeles</td>\n",
       "      <td>CA</td>\n",
       "      <td>Los Angeles-Long Beach-Anaheim</td>\n",
       "      <td>Los Angeles</td>\n",
       "      <td>1</td>\n",
       "      <td>629900</td>\n",
       "    </tr>\n",
       "    <tr>\n",
       "      <th>2</th>\n",
       "      <td>2017-05-31</td>\n",
       "      <td>17426</td>\n",
       "      <td>Chicago</td>\n",
       "      <td>IL</td>\n",
       "      <td>Chicago</td>\n",
       "      <td>Cook</td>\n",
       "      <td>2</td>\n",
       "      <td>222700</td>\n",
       "    </tr>\n",
       "    <tr>\n",
       "      <th>3</th>\n",
       "      <td>2017-05-31</td>\n",
       "      <td>13271</td>\n",
       "      <td>Philadelphia</td>\n",
       "      <td>PA</td>\n",
       "      <td>Philadelphia</td>\n",
       "      <td>Philadelphia</td>\n",
       "      <td>3</td>\n",
       "      <td>137300</td>\n",
       "    </tr>\n",
       "    <tr>\n",
       "      <th>4</th>\n",
       "      <td>2017-05-31</td>\n",
       "      <td>40326</td>\n",
       "      <td>Phoenix</td>\n",
       "      <td>AZ</td>\n",
       "      <td>Phoenix</td>\n",
       "      <td>Maricopa</td>\n",
       "      <td>4</td>\n",
       "      <td>211300</td>\n",
       "    </tr>\n",
       "  </tbody>\n",
       "</table>\n",
       "</div>"
      ],
      "text/plain": [
       "         Date  RegionID    RegionName State                           Metro  \\\n",
       "0  2017-05-31      6181      New York    NY                        New York   \n",
       "1  2017-05-31     12447   Los Angeles    CA  Los Angeles-Long Beach-Anaheim   \n",
       "2  2017-05-31     17426       Chicago    IL                         Chicago   \n",
       "3  2017-05-31     13271  Philadelphia    PA                    Philadelphia   \n",
       "4  2017-05-31     40326       Phoenix    AZ                         Phoenix   \n",
       "\n",
       "         County  SizeRank    Zhvi  \n",
       "0        Queens         0  672400  \n",
       "1   Los Angeles         1  629900  \n",
       "2          Cook         2  222700  \n",
       "3  Philadelphia         3  137300  \n",
       "4      Maricopa         4  211300  "
      ]
     },
     "execution_count": 2,
     "metadata": {},
     "output_type": "execute_result"
    }
   ],
   "source": [
    "zillow = pd.read_table('data-zillow.csv', sep=',')\n",
    "zillow.head()"
   ]
  },
  {
   "cell_type": "markdown",
   "metadata": {
    "deletable": true,
    "editable": true,
    "slideshow": {
     "slide_type": "slide"
    }
   },
   "source": [
    "## Simple sort"
   ]
  },
  {
   "cell_type": "code",
   "execution_count": 5,
   "metadata": {
    "collapsed": false,
    "deletable": true,
    "editable": true,
    "jupyter": {
     "outputs_hidden": false
    },
    "slideshow": {
     "slide_type": "fragment"
    }
   },
   "outputs": [
    {
     "name": "stdout",
     "output_type": "stream",
     "text": [
      "  State                           Metro        County\n",
      "0    NY                        New York        Queens\n",
      "1    CA  Los Angeles-Long Beach-Anaheim   Los Angeles\n",
      "2    IL                         Chicago          Cook\n",
      "3    PA                    Philadelphia  Philadelphia\n",
      "4    AZ                         Phoenix      Maricopa\n",
      "5    NV                       Las Vegas         Clark\n",
      "6    CA                       San Diego     San Diego\n",
      "7    TX               Dallas-Fort Worth        Dallas\n",
      "8    CA                        San Jose   Santa Clara\n",
      "9    FL                    Jacksonville         Duval \n",
      "Tail\n",
      "       State         Metro      County\n",
      "10820    NC     Asheville   Henderson\n",
      "10821    IN  Kendallville       Noble\n",
      "10822    MD           NaN    Caroline\n",
      "10823    NY      Kingston      Ulster\n",
      "10824    AL    Montgomery     Autauga\n",
      "10825    OR           NaN   Tillamook\n",
      "10826    TX       Houston   Galveston\n",
      "10827    NJ      New York   Hunterdon\n",
      "10828    VA      Richmond     Henrico\n",
      "10829    NH        Boston  Rockingham\n"
     ]
    }
   ],
   "source": [
    "zillow.sort_values('Metro')\n",
    "print(zillow[['State', 'Metro', 'County']].head(10),\"\\nTail\\n\",zillow[['State', 'Metro', 'County']].tail(10))"
   ]
  },
  {
   "cell_type": "markdown",
   "metadata": {
    "deletable": true,
    "editable": true,
    "slideshow": {
     "slide_type": "slide"
    }
   },
   "source": [
    "## Changing the sort order"
   ]
  },
  {
   "cell_type": "code",
   "execution_count": 6,
   "metadata": {
    "collapsed": false,
    "deletable": true,
    "editable": true,
    "jupyter": {
     "outputs_hidden": false
    },
    "slideshow": {
     "slide_type": "fragment"
    }
   },
   "outputs": [
    {
     "data": {
      "text/html": [
       "<div>\n",
       "<style scoped>\n",
       "    .dataframe tbody tr th:only-of-type {\n",
       "        vertical-align: middle;\n",
       "    }\n",
       "\n",
       "    .dataframe tbody tr th {\n",
       "        vertical-align: top;\n",
       "    }\n",
       "\n",
       "    .dataframe thead th {\n",
       "        text-align: right;\n",
       "    }\n",
       "</style>\n",
       "<table border=\"1\" class=\"dataframe\">\n",
       "  <thead>\n",
       "    <tr style=\"text-align: right;\">\n",
       "      <th></th>\n",
       "      <th>Date</th>\n",
       "      <th>RegionID</th>\n",
       "      <th>RegionName</th>\n",
       "      <th>State</th>\n",
       "      <th>Metro</th>\n",
       "      <th>County</th>\n",
       "      <th>SizeRank</th>\n",
       "      <th>Zhvi</th>\n",
       "    </tr>\n",
       "  </thead>\n",
       "  <tbody>\n",
       "    <tr>\n",
       "      <th>8064</th>\n",
       "      <td>2017-05-31</td>\n",
       "      <td>19538</td>\n",
       "      <td>Nashport</td>\n",
       "      <td>OH</td>\n",
       "      <td>Zanesville</td>\n",
       "      <td>Muskingum</td>\n",
       "      <td>8064</td>\n",
       "      <td>153800</td>\n",
       "    </tr>\n",
       "    <tr>\n",
       "      <th>10271</th>\n",
       "      <td>2017-05-31</td>\n",
       "      <td>15262</td>\n",
       "      <td>Hopewell</td>\n",
       "      <td>OH</td>\n",
       "      <td>Zanesville</td>\n",
       "      <td>Muskingum</td>\n",
       "      <td>10271</td>\n",
       "      <td>138700</td>\n",
       "    </tr>\n",
       "    <tr>\n",
       "      <th>10373</th>\n",
       "      <td>2017-05-31</td>\n",
       "      <td>49730</td>\n",
       "      <td>Norwich</td>\n",
       "      <td>OH</td>\n",
       "      <td>Zanesville</td>\n",
       "      <td>Muskingum</td>\n",
       "      <td>10373</td>\n",
       "      <td>145100</td>\n",
       "    </tr>\n",
       "    <tr>\n",
       "      <th>5423</th>\n",
       "      <td>2017-05-31</td>\n",
       "      <td>53527</td>\n",
       "      <td>New Concord</td>\n",
       "      <td>OH</td>\n",
       "      <td>Zanesville</td>\n",
       "      <td>Muskingum</td>\n",
       "      <td>5423</td>\n",
       "      <td>138300</td>\n",
       "    </tr>\n",
       "    <tr>\n",
       "      <th>7595</th>\n",
       "      <td>2017-05-31</td>\n",
       "      <td>17815</td>\n",
       "      <td>Dresden</td>\n",
       "      <td>OH</td>\n",
       "      <td>Zanesville</td>\n",
       "      <td>Muskingum</td>\n",
       "      <td>7595</td>\n",
       "      <td>118400</td>\n",
       "    </tr>\n",
       "  </tbody>\n",
       "</table>\n",
       "</div>"
      ],
      "text/plain": [
       "             Date  RegionID   RegionName State       Metro     County  \\\n",
       "8064   2017-05-31     19538     Nashport    OH  Zanesville  Muskingum   \n",
       "10271  2017-05-31     15262     Hopewell    OH  Zanesville  Muskingum   \n",
       "10373  2017-05-31     49730      Norwich    OH  Zanesville  Muskingum   \n",
       "5423   2017-05-31     53527  New Concord    OH  Zanesville  Muskingum   \n",
       "7595   2017-05-31     17815      Dresden    OH  Zanesville  Muskingum   \n",
       "\n",
       "       SizeRank    Zhvi  \n",
       "8064       8064  153800  \n",
       "10271     10271  138700  \n",
       "10373     10373  145100  \n",
       "5423       5423  138300  \n",
       "7595       7595  118400  "
      ]
     },
     "execution_count": 6,
     "metadata": {},
     "output_type": "execute_result"
    }
   ],
   "source": [
    "sorted = zillow.sort_values('Metro', ascending=False)\n",
    "sorted.head()"
   ]
  },
  {
   "cell_type": "markdown",
   "metadata": {
    "deletable": true,
    "editable": true,
    "slideshow": {
     "slide_type": "slide"
    }
   },
   "source": [
    "## Sort by more than one column "
   ]
  },
  {
   "cell_type": "code",
   "execution_count": 7,
   "metadata": {
    "collapsed": false,
    "deletable": true,
    "editable": true,
    "jupyter": {
     "outputs_hidden": false
    },
    "slideshow": {
     "slide_type": "fragment"
    }
   },
   "outputs": [
    {
     "data": {
      "text/html": [
       "<div>\n",
       "<style scoped>\n",
       "    .dataframe tbody tr th:only-of-type {\n",
       "        vertical-align: middle;\n",
       "    }\n",
       "\n",
       "    .dataframe tbody tr th {\n",
       "        vertical-align: top;\n",
       "    }\n",
       "\n",
       "    .dataframe thead th {\n",
       "        text-align: right;\n",
       "    }\n",
       "</style>\n",
       "<table border=\"1\" class=\"dataframe\">\n",
       "  <thead>\n",
       "    <tr style=\"text-align: right;\">\n",
       "      <th></th>\n",
       "      <th>Date</th>\n",
       "      <th>RegionID</th>\n",
       "      <th>RegionName</th>\n",
       "      <th>State</th>\n",
       "      <th>Metro</th>\n",
       "      <th>County</th>\n",
       "      <th>SizeRank</th>\n",
       "      <th>Zhvi</th>\n",
       "    </tr>\n",
       "  </thead>\n",
       "  <tbody>\n",
       "    <tr>\n",
       "      <th>2073</th>\n",
       "      <td>2017-05-31</td>\n",
       "      <td>30116</td>\n",
       "      <td>Aberdeen</td>\n",
       "      <td>WA</td>\n",
       "      <td>Aberdeen</td>\n",
       "      <td>Grays Harbor</td>\n",
       "      <td>2073</td>\n",
       "      <td>127800</td>\n",
       "    </tr>\n",
       "    <tr>\n",
       "      <th>4568</th>\n",
       "      <td>2017-05-31</td>\n",
       "      <td>56078</td>\n",
       "      <td>Montesano</td>\n",
       "      <td>WA</td>\n",
       "      <td>Aberdeen</td>\n",
       "      <td>Grays Harbor</td>\n",
       "      <td>4568</td>\n",
       "      <td>182000</td>\n",
       "    </tr>\n",
       "    <tr>\n",
       "      <th>4996</th>\n",
       "      <td>2017-05-31</td>\n",
       "      <td>36873</td>\n",
       "      <td>Elma</td>\n",
       "      <td>WA</td>\n",
       "      <td>Aberdeen</td>\n",
       "      <td>Grays Harbor</td>\n",
       "      <td>4996</td>\n",
       "      <td>175200</td>\n",
       "    </tr>\n",
       "    <tr>\n",
       "      <th>5090</th>\n",
       "      <td>2017-05-31</td>\n",
       "      <td>35514</td>\n",
       "      <td>Hoquiam</td>\n",
       "      <td>WA</td>\n",
       "      <td>Aberdeen</td>\n",
       "      <td>Grays Harbor</td>\n",
       "      <td>5090</td>\n",
       "      <td>95700</td>\n",
       "    </tr>\n",
       "    <tr>\n",
       "      <th>7108</th>\n",
       "      <td>2017-05-31</td>\n",
       "      <td>6275</td>\n",
       "      <td>Oakville</td>\n",
       "      <td>WA</td>\n",
       "      <td>Aberdeen</td>\n",
       "      <td>Grays Harbor</td>\n",
       "      <td>7108</td>\n",
       "      <td>186900</td>\n",
       "    </tr>\n",
       "  </tbody>\n",
       "</table>\n",
       "</div>"
      ],
      "text/plain": [
       "            Date  RegionID RegionName State     Metro        County  SizeRank  \\\n",
       "2073  2017-05-31     30116   Aberdeen    WA  Aberdeen  Grays Harbor      2073   \n",
       "4568  2017-05-31     56078  Montesano    WA  Aberdeen  Grays Harbor      4568   \n",
       "4996  2017-05-31     36873       Elma    WA  Aberdeen  Grays Harbor      4996   \n",
       "5090  2017-05-31     35514    Hoquiam    WA  Aberdeen  Grays Harbor      5090   \n",
       "7108  2017-05-31      6275   Oakville    WA  Aberdeen  Grays Harbor      7108   \n",
       "\n",
       "        Zhvi  \n",
       "2073  127800  \n",
       "4568  182000  \n",
       "4996  175200  \n",
       "5090   95700  \n",
       "7108  186900  "
      ]
     },
     "execution_count": 7,
     "metadata": {},
     "output_type": "execute_result"
    }
   ],
   "source": [
    "sorted = zillow.sort_values(by=['Metro','County'])\n",
    "sorted.head()"
   ]
  },
  {
   "cell_type": "markdown",
   "metadata": {
    "deletable": true,
    "editable": true,
    "slideshow": {
     "slide_type": "slide"
    }
   },
   "source": [
    "## Sort by multiple columns and mixed ascending order"
   ]
  },
  {
   "cell_type": "code",
   "execution_count": 8,
   "metadata": {
    "collapsed": false,
    "deletable": true,
    "editable": true,
    "jupyter": {
     "outputs_hidden": false
    },
    "slideshow": {
     "slide_type": "fragment"
    }
   },
   "outputs": [
    {
     "data": {
      "text/html": [
       "<div>\n",
       "<style scoped>\n",
       "    .dataframe tbody tr th:only-of-type {\n",
       "        vertical-align: middle;\n",
       "    }\n",
       "\n",
       "    .dataframe tbody tr th {\n",
       "        vertical-align: top;\n",
       "    }\n",
       "\n",
       "    .dataframe thead th {\n",
       "        text-align: right;\n",
       "    }\n",
       "</style>\n",
       "<table border=\"1\" class=\"dataframe\">\n",
       "  <thead>\n",
       "    <tr style=\"text-align: right;\">\n",
       "      <th></th>\n",
       "      <th>Date</th>\n",
       "      <th>RegionID</th>\n",
       "      <th>RegionName</th>\n",
       "      <th>State</th>\n",
       "      <th>Metro</th>\n",
       "      <th>County</th>\n",
       "      <th>SizeRank</th>\n",
       "      <th>Zhvi</th>\n",
       "    </tr>\n",
       "  </thead>\n",
       "  <tbody>\n",
       "    <tr>\n",
       "      <th>7108</th>\n",
       "      <td>2017-05-31</td>\n",
       "      <td>6275</td>\n",
       "      <td>Oakville</td>\n",
       "      <td>WA</td>\n",
       "      <td>Aberdeen</td>\n",
       "      <td>Grays Harbor</td>\n",
       "      <td>7108</td>\n",
       "      <td>186900</td>\n",
       "    </tr>\n",
       "    <tr>\n",
       "      <th>4568</th>\n",
       "      <td>2017-05-31</td>\n",
       "      <td>56078</td>\n",
       "      <td>Montesano</td>\n",
       "      <td>WA</td>\n",
       "      <td>Aberdeen</td>\n",
       "      <td>Grays Harbor</td>\n",
       "      <td>4568</td>\n",
       "      <td>182000</td>\n",
       "    </tr>\n",
       "    <tr>\n",
       "      <th>4996</th>\n",
       "      <td>2017-05-31</td>\n",
       "      <td>36873</td>\n",
       "      <td>Elma</td>\n",
       "      <td>WA</td>\n",
       "      <td>Aberdeen</td>\n",
       "      <td>Grays Harbor</td>\n",
       "      <td>4996</td>\n",
       "      <td>175200</td>\n",
       "    </tr>\n",
       "    <tr>\n",
       "      <th>8420</th>\n",
       "      <td>2017-05-31</td>\n",
       "      <td>19269</td>\n",
       "      <td>McCleary</td>\n",
       "      <td>WA</td>\n",
       "      <td>Aberdeen</td>\n",
       "      <td>Grays Harbor</td>\n",
       "      <td>8420</td>\n",
       "      <td>170700</td>\n",
       "    </tr>\n",
       "    <tr>\n",
       "      <th>9401</th>\n",
       "      <td>2017-05-31</td>\n",
       "      <td>33215</td>\n",
       "      <td>Ocean Shores</td>\n",
       "      <td>WA</td>\n",
       "      <td>Aberdeen</td>\n",
       "      <td>Grays Harbor</td>\n",
       "      <td>9401</td>\n",
       "      <td>152400</td>\n",
       "    </tr>\n",
       "  </tbody>\n",
       "</table>\n",
       "</div>"
      ],
      "text/plain": [
       "            Date  RegionID    RegionName State     Metro        County  \\\n",
       "7108  2017-05-31      6275      Oakville    WA  Aberdeen  Grays Harbor   \n",
       "4568  2017-05-31     56078     Montesano    WA  Aberdeen  Grays Harbor   \n",
       "4996  2017-05-31     36873          Elma    WA  Aberdeen  Grays Harbor   \n",
       "8420  2017-05-31     19269      McCleary    WA  Aberdeen  Grays Harbor   \n",
       "9401  2017-05-31     33215  Ocean Shores    WA  Aberdeen  Grays Harbor   \n",
       "\n",
       "      SizeRank    Zhvi  \n",
       "7108      7108  186900  \n",
       "4568      4568  182000  \n",
       "4996      4996  175200  \n",
       "8420      8420  170700  \n",
       "9401      9401  152400  "
      ]
     },
     "execution_count": 8,
     "metadata": {},
     "output_type": "execute_result"
    }
   ],
   "source": [
    "sorted = zillow.sort_values(by=['Metro','County', 'Zhvi'], \n",
    "                            ascending=[True, True, False])\n",
    "sorted.head()"
   ]
  },
  {
   "cell_type": "code",
   "execution_count": null,
   "metadata": {},
   "outputs": [],
   "source": []
  }
 ],
 "metadata": {
  "celltoolbar": "Slideshow",
  "kernelspec": {
   "display_name": "Python 3 (ipykernel)",
   "language": "python",
   "name": "python3"
  },
  "language_info": {
   "codemirror_mode": {
    "name": "ipython",
    "version": 3
   },
   "file_extension": ".py",
   "mimetype": "text/x-python",
   "name": "python",
   "nbconvert_exporter": "python",
   "pygments_lexer": "ipython3",
   "version": "3.12.5"
  }
 },
 "nbformat": 4,
 "nbformat_minor": 4
}
